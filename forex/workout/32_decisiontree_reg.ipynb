{
 "cells": [
  {
   "cell_type": "code",
   "execution_count": 1,
   "metadata": {},
   "outputs": [],
   "source": [
    "import numpy as np\n",
    "import pandas as pd\n",
    "import matplotlib.pyplot as plt\n",
    "import seaborn as sns\n",
    "import warnings\n",
    "\n",
    "import allinone as aio\n",
    "\n",
    "%matplotlib inline\n",
    "warnings.filterwarnings('ignore')\n",
    "pd.set_option(\"display.float_format\", \"{:.3f}\".format)\n",
    "plt.style.use('ggplot')"
   ]
  },
  {
   "cell_type": "code",
   "execution_count": 2,
   "metadata": {},
   "outputs": [],
   "source": [
    "df_dummy = pd.read_csv('forex_dummy.csv')"
   ]
  },
  {
   "cell_type": "code",
   "execution_count": 3,
   "metadata": {},
   "outputs": [
    {
     "data": {
      "text/html": [
       "<div>\n",
       "<style scoped>\n",
       "    .dataframe tbody tr th:only-of-type {\n",
       "        vertical-align: middle;\n",
       "    }\n",
       "\n",
       "    .dataframe tbody tr th {\n",
       "        vertical-align: top;\n",
       "    }\n",
       "\n",
       "    .dataframe thead th {\n",
       "        text-align: right;\n",
       "    }\n",
       "</style>\n",
       "<table border=\"1\" class=\"dataframe\">\n",
       "  <thead>\n",
       "    <tr style=\"text-align: right;\">\n",
       "      <th></th>\n",
       "      <th>ind_132</th>\n",
       "      <th>ind_124</th>\n",
       "      <th>ind_116</th>\n",
       "      <th>ind_43</th>\n",
       "      <th>ind_44</th>\n",
       "      <th>ind_45</th>\n",
       "      <th>ind_46</th>\n",
       "      <th>ind_47</th>\n",
       "      <th>ind_48</th>\n",
       "      <th>ind_49</th>\n",
       "      <th>...</th>\n",
       "      <th>ind_40_3</th>\n",
       "      <th>ind_40_4</th>\n",
       "      <th>ind_40_5</th>\n",
       "      <th>ind_40_6</th>\n",
       "      <th>ind_217_0</th>\n",
       "      <th>ind_217_1</th>\n",
       "      <th>ind_217_2</th>\n",
       "      <th>ind_217_3</th>\n",
       "      <th>ind_217_4</th>\n",
       "      <th>ind_217_5</th>\n",
       "    </tr>\n",
       "  </thead>\n",
       "  <tbody>\n",
       "    <tr>\n",
       "      <th>0</th>\n",
       "      <td>-125</td>\n",
       "      <td>-25</td>\n",
       "      <td>-13</td>\n",
       "      <td>-22</td>\n",
       "      <td>-22</td>\n",
       "      <td>-21</td>\n",
       "      <td>-23</td>\n",
       "      <td>-36</td>\n",
       "      <td>-40</td>\n",
       "      <td>-43</td>\n",
       "      <td>...</td>\n",
       "      <td>1</td>\n",
       "      <td>0</td>\n",
       "      <td>0</td>\n",
       "      <td>0</td>\n",
       "      <td>0</td>\n",
       "      <td>1</td>\n",
       "      <td>0</td>\n",
       "      <td>0</td>\n",
       "      <td>0</td>\n",
       "      <td>0</td>\n",
       "    </tr>\n",
       "    <tr>\n",
       "      <th>1</th>\n",
       "      <td>-130</td>\n",
       "      <td>-28</td>\n",
       "      <td>-16</td>\n",
       "      <td>-18</td>\n",
       "      <td>-24</td>\n",
       "      <td>-24</td>\n",
       "      <td>-25</td>\n",
       "      <td>-38</td>\n",
       "      <td>-43</td>\n",
       "      <td>-45</td>\n",
       "      <td>...</td>\n",
       "      <td>1</td>\n",
       "      <td>0</td>\n",
       "      <td>0</td>\n",
       "      <td>0</td>\n",
       "      <td>0</td>\n",
       "      <td>1</td>\n",
       "      <td>0</td>\n",
       "      <td>0</td>\n",
       "      <td>0</td>\n",
       "      <td>0</td>\n",
       "    </tr>\n",
       "    <tr>\n",
       "      <th>2</th>\n",
       "      <td>-132</td>\n",
       "      <td>-28</td>\n",
       "      <td>-15</td>\n",
       "      <td>-11</td>\n",
       "      <td>-21</td>\n",
       "      <td>-22</td>\n",
       "      <td>-24</td>\n",
       "      <td>-36</td>\n",
       "      <td>-42</td>\n",
       "      <td>-44</td>\n",
       "      <td>...</td>\n",
       "      <td>1</td>\n",
       "      <td>0</td>\n",
       "      <td>0</td>\n",
       "      <td>0</td>\n",
       "      <td>0</td>\n",
       "      <td>1</td>\n",
       "      <td>0</td>\n",
       "      <td>0</td>\n",
       "      <td>0</td>\n",
       "      <td>0</td>\n",
       "    </tr>\n",
       "  </tbody>\n",
       "</table>\n",
       "<p>3 rows × 143 columns</p>\n",
       "</div>"
      ],
      "text/plain": [
       "   ind_132  ind_124  ind_116  ind_43  ind_44  ind_45  ind_46  ind_47  ind_48  \\\n",
       "0     -125      -25      -13     -22     -22     -21     -23     -36     -40   \n",
       "1     -130      -28      -16     -18     -24     -24     -25     -38     -43   \n",
       "2     -132      -28      -15     -11     -21     -22     -24     -36     -42   \n",
       "\n",
       "   ind_49  ...  ind_40_3  ind_40_4  ind_40_5  ind_40_6  ind_217_0  ind_217_1  \\\n",
       "0     -43  ...         1         0         0         0          0          1   \n",
       "1     -45  ...         1         0         0         0          0          1   \n",
       "2     -44  ...         1         0         0         0          0          1   \n",
       "\n",
       "   ind_217_2  ind_217_3  ind_217_4  ind_217_5  \n",
       "0          0          0          0          0  \n",
       "1          0          0          0          0  \n",
       "2          0          0          0          0  \n",
       "\n",
       "[3 rows x 143 columns]"
      ]
     },
     "execution_count": 3,
     "metadata": {},
     "output_type": "execute_result"
    }
   ],
   "source": [
    "df_dummy.head(3)"
   ]
  },
  {
   "cell_type": "markdown",
   "metadata": {},
   "source": [
    "## Model"
   ]
  },
  {
   "cell_type": "code",
   "execution_count": 4,
   "metadata": {},
   "outputs": [],
   "source": [
    "from sklearn.linear_model import LinearRegression\n",
    "from sklearn.tree import DecisionTreeRegressor"
   ]
  },
  {
   "cell_type": "code",
   "execution_count": 5,
   "metadata": {},
   "outputs": [],
   "source": [
    "dfModel = pd.DataFrame(columns = ['cross-score', 'cross-train', 'rsq_train', 'rsq_test', 'subt_rsq', 'mae_test', 'mse_test', 'rmse_test', 'mape_test'])"
   ]
  },
  {
   "cell_type": "code",
   "execution_count": 17,
   "metadata": {},
   "outputs": [],
   "source": [
    "y = df_dummy['90_target']\n",
    "X = df_dummy.drop(['90_target','buy'], axis=1)\n",
    "model = LinearRegression()\n",
    "\n",
    "dfModel = dfModel.append(aio.regframe(X, y, model, 'linear'))"
   ]
  },
  {
   "cell_type": "code",
   "execution_count": 18,
   "metadata": {},
   "outputs": [],
   "source": [
    "y = df_dummy['90_target']\n",
    "X = df_dummy.drop(['90_target','buy'], axis=1)\n",
    "model = DecisionTreeRegressor()\n",
    "\n",
    "dfModel = dfModel.append(aio.regframe(X, y, model, 'tree'))"
   ]
  },
  {
   "cell_type": "code",
   "execution_count": 8,
   "metadata": {},
   "outputs": [
    {
     "data": {
      "text/html": [
       "<div>\n",
       "<style scoped>\n",
       "    .dataframe tbody tr th:only-of-type {\n",
       "        vertical-align: middle;\n",
       "    }\n",
       "\n",
       "    .dataframe tbody tr th {\n",
       "        vertical-align: top;\n",
       "    }\n",
       "\n",
       "    .dataframe thead th {\n",
       "        text-align: right;\n",
       "    }\n",
       "</style>\n",
       "<table border=\"1\" class=\"dataframe\">\n",
       "  <thead>\n",
       "    <tr style=\"text-align: right;\">\n",
       "      <th></th>\n",
       "      <th>cross-score</th>\n",
       "      <th>cross-train</th>\n",
       "      <th>rsq_train</th>\n",
       "      <th>rsq_test</th>\n",
       "      <th>subt_rsq</th>\n",
       "      <th>mae_test</th>\n",
       "      <th>mse_test</th>\n",
       "      <th>rmse_test</th>\n",
       "      <th>mape_test</th>\n",
       "    </tr>\n",
       "  </thead>\n",
       "  <tbody>\n",
       "    <tr>\n",
       "      <th>linear</th>\n",
       "      <td>0.661</td>\n",
       "      <td>0.688</td>\n",
       "      <td>0.989</td>\n",
       "      <td>0.673</td>\n",
       "      <td>0.316</td>\n",
       "      <td>0.070</td>\n",
       "      <td>0.020</td>\n",
       "      <td>0.141</td>\n",
       "      <td>0.196</td>\n",
       "    </tr>\n",
       "    <tr>\n",
       "      <th>tree</th>\n",
       "      <td>-5.211</td>\n",
       "      <td>-0.906</td>\n",
       "      <td>1.000</td>\n",
       "      <td>-2.021</td>\n",
       "      <td>3.021</td>\n",
       "      <td>0.345</td>\n",
       "      <td>0.184</td>\n",
       "      <td>0.429</td>\n",
       "      <td>0.961</td>\n",
       "    </tr>\n",
       "  </tbody>\n",
       "</table>\n",
       "</div>"
      ],
      "text/plain": [
       "        cross-score  cross-train  rsq_train  rsq_test  subt_rsq  mae_test  \\\n",
       "linear        0.661        0.688      0.989     0.673     0.316     0.070   \n",
       "tree         -5.211       -0.906      1.000    -2.021     3.021     0.345   \n",
       "\n",
       "        mse_test  rmse_test  mape_test  \n",
       "linear     0.020      0.141      0.196  \n",
       "tree       0.184      0.429      0.961  "
      ]
     },
     "execution_count": 8,
     "metadata": {},
     "output_type": "execute_result"
    }
   ],
   "source": [
    "dfModel"
   ]
  },
  {
   "cell_type": "markdown",
   "metadata": {},
   "source": [
    "### Parametreler"
   ]
  },
  {
   "cell_type": "code",
   "execution_count": 10,
   "metadata": {},
   "outputs": [],
   "source": [
    "from sklearn.model_selection import train_test_split, cross_val_score, GridSearchCV, KFold\n",
    "from sklearn.tree import DecisionTreeRegressor, DecisionTreeClassifier"
   ]
  },
  {
   "cell_type": "code",
   "execution_count": 11,
   "metadata": {},
   "outputs": [],
   "source": [
    "y = df_dummy['90_target']\n",
    "X = df_dummy.drop(['90_target','buy'], axis=1)"
   ]
  },
  {
   "cell_type": "code",
   "execution_count": 12,
   "metadata": {},
   "outputs": [],
   "source": [
    "dtree = DecisionTreeRegressor()\n",
    "params = {'criterion': ['mse'], 'min_samples_split': [2, 10], 'max_depth': [2, 8, 32], 'min_samples_leaf': [10, 30]}"
   ]
  },
  {
   "cell_type": "code",
   "execution_count": 13,
   "metadata": {},
   "outputs": [
    {
     "name": "stdout",
     "output_type": "stream",
     "text": [
      "Fitting 10 folds for each of 12 candidates, totalling 120 fits\n"
     ]
    },
    {
     "name": "stderr",
     "output_type": "stream",
     "text": [
      "[Parallel(n_jobs=-1)]: Using backend LokyBackend with 8 concurrent workers.\n",
      "[Parallel(n_jobs=-1)]: Done  34 tasks      | elapsed:    4.0s\n",
      "[Parallel(n_jobs=-1)]: Done 120 out of 120 | elapsed:   10.9s finished\n"
     ]
    }
   ],
   "source": [
    "k_fold = KFold(n_splits = 10, shuffle = False, random_state = 42)\n",
    "gridcv_results = GridSearchCV(estimator = dtree, param_grid = params, cv = k_fold, n_jobs = -1, verbose = 1).fit(X, y)"
   ]
  },
  {
   "cell_type": "code",
   "execution_count": 14,
   "metadata": {},
   "outputs": [
    {
     "data": {
      "text/plain": [
       "{'criterion': 'mse',\n",
       " 'max_depth': 8,\n",
       " 'min_samples_leaf': 10,\n",
       " 'min_samples_split': 10}"
      ]
     },
     "execution_count": 14,
     "metadata": {},
     "output_type": "execute_result"
    }
   ],
   "source": [
    "gridcv_results.best_params_"
   ]
  },
  {
   "cell_type": "code",
   "execution_count": 15,
   "metadata": {},
   "outputs": [],
   "source": [
    "y = df_dummy['90_target']\n",
    "X = df_dummy.drop(['90_target','buy'], axis=1)\n",
    "model = DecisionTreeRegressor(criterion='mse', min_samples_split=10, max_depth=8, min_samples_leaf=10)\n",
    "\n",
    "dfModel = dfModel.append(aio.regframe(X, y, model, 'tree_p1'))"
   ]
  },
  {
   "cell_type": "code",
   "execution_count": 19,
   "metadata": {},
   "outputs": [
    {
     "data": {
      "text/html": [
       "<div>\n",
       "<style scoped>\n",
       "    .dataframe tbody tr th:only-of-type {\n",
       "        vertical-align: middle;\n",
       "    }\n",
       "\n",
       "    .dataframe tbody tr th {\n",
       "        vertical-align: top;\n",
       "    }\n",
       "\n",
       "    .dataframe thead th {\n",
       "        text-align: right;\n",
       "    }\n",
       "</style>\n",
       "<table border=\"1\" class=\"dataframe\">\n",
       "  <thead>\n",
       "    <tr style=\"text-align: right;\">\n",
       "      <th></th>\n",
       "      <th>cross-score</th>\n",
       "      <th>cross-train</th>\n",
       "      <th>rsq_train</th>\n",
       "      <th>rsq_test</th>\n",
       "      <th>subt_rsq</th>\n",
       "      <th>mae_test</th>\n",
       "      <th>mse_test</th>\n",
       "      <th>rmse_test</th>\n",
       "      <th>mape_test</th>\n",
       "    </tr>\n",
       "  </thead>\n",
       "  <tbody>\n",
       "    <tr>\n",
       "      <th>tree_p1</th>\n",
       "      <td>-5.957</td>\n",
       "      <td>-0.961</td>\n",
       "      <td>0.998</td>\n",
       "      <td>-8.034</td>\n",
       "      <td>9.032</td>\n",
       "      <td>0.613</td>\n",
       "      <td>0.551</td>\n",
       "      <td>0.742</td>\n",
       "      <td>1.712</td>\n",
       "    </tr>\n",
       "    <tr>\n",
       "      <th>linear</th>\n",
       "      <td>0.661</td>\n",
       "      <td>0.688</td>\n",
       "      <td>0.989</td>\n",
       "      <td>0.673</td>\n",
       "      <td>0.316</td>\n",
       "      <td>0.070</td>\n",
       "      <td>0.020</td>\n",
       "      <td>0.141</td>\n",
       "      <td>0.196</td>\n",
       "    </tr>\n",
       "    <tr>\n",
       "      <th>tree</th>\n",
       "      <td>-6.251</td>\n",
       "      <td>-0.916</td>\n",
       "      <td>1.000</td>\n",
       "      <td>-11.327</td>\n",
       "      <td>12.327</td>\n",
       "      <td>0.707</td>\n",
       "      <td>0.752</td>\n",
       "      <td>0.867</td>\n",
       "      <td>1.971</td>\n",
       "    </tr>\n",
       "  </tbody>\n",
       "</table>\n",
       "</div>"
      ],
      "text/plain": [
       "         cross-score  cross-train  rsq_train  rsq_test  subt_rsq  mae_test  \\\n",
       "tree_p1       -5.957       -0.961      0.998    -8.034     9.032     0.613   \n",
       "linear         0.661        0.688      0.989     0.673     0.316     0.070   \n",
       "tree          -6.251       -0.916      1.000   -11.327    12.327     0.707   \n",
       "\n",
       "         mse_test  rmse_test  mape_test  \n",
       "tree_p1     0.551      0.742      1.712  \n",
       "linear      0.020      0.141      0.196  \n",
       "tree        0.752      0.867      1.971  "
      ]
     },
     "execution_count": 19,
     "metadata": {},
     "output_type": "execute_result"
    }
   ],
   "source": [
    "dfModel"
   ]
  },
  {
   "cell_type": "code",
   "execution_count": null,
   "metadata": {},
   "outputs": [],
   "source": []
  },
  {
   "cell_type": "code",
   "execution_count": 7,
   "metadata": {},
   "outputs": [
    {
     "data": {
      "image/png": "[encoded data removed]",
      "text/plain": [
       "<Figure size 432x288 with 1 Axes>"
      ]
     },
     "metadata": {},
     "output_type": "display_data"
    }
   ],
   "source": [
    "y = df_dummy['90_target']\n",
    "X = df_dummy.drop(['90_target','buy'], axis=1)\n",
    "model = LinearRegression()\n",
    "\n",
    "aio.regplot(X, y, model, 'linear')"
   ]
  },
  {
   "cell_type": "code",
   "execution_count": 8,
   "metadata": {},
   "outputs": [
    {
     "data": {
      "image/png": "[encoded data removed]",
      "text/plain": [
       "<Figure size 432x288 with 1 Axes>"
      ]
     },
     "metadata": {},
     "output_type": "display_data"
    }
   ],
   "source": [
    "y = df_dummy['90_target']\n",
    "X = df_dummy.drop(['90_target','buy'], axis=1)\n",
    "model = DecisionTreeRegressor()\n",
    "\n",
    "aio.regplot(X, y, model, 'tree')"
   ]
  },
  {
   "cell_type": "code",
   "execution_count": 20,
   "metadata": {},
   "outputs": [
    {
     "data": {
      "image/png": "[encoded data removed]",
      "text/plain": [
       "<Figure size 432x288 with 1 Axes>"
      ]
     },
     "metadata": {},
     "output_type": "display_data"
    }
   ],
   "source": [
    "y = df_dummy['90_target']\n",
    "X = df_dummy.drop(['90_target','buy'], axis=1)\n",
    "model = DecisionTreeRegressor(criterion='mse', min_samples_split=10, max_depth=8, min_samples_leaf=10)\n",
    "\n",
    "aio.regplot(X, y, model, 'tree')"
   ]
  },
  {
   "cell_type": "code",
   "execution_count": null,
   "metadata": {},
   "outputs": [],
   "source": []
  }
 ],
 "metadata": {
  "kernelspec": {
   "display_name": "Python 3",
   "language": "python",
   "name": "python3"
  },
  "language_info": {
   "codemirror_mode": {
    "name": "ipython",
    "version": 3
   },
   "file_extension": ".py",
   "mimetype": "text/x-python",
   "name": "python",
   "nbconvert_exporter": "python",
   "pygments_lexer": "ipython3",
   "version": "3.7.7"
  }
 },
 "nbformat": 4,
 "nbformat_minor": 4
}
