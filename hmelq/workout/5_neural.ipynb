{
 "cells": [
  {
   "cell_type": "code",
   "execution_count": 1,
   "metadata": {},
   "outputs": [],
   "source": [
    "import numpy as np\n",
    "import pandas as pd\n",
    "import matplotlib.pyplot as plt\n",
    "import seaborn as sns\n",
    "import warnings\n",
    "\n",
    "import allinone as aio\n",
    "\n",
    "%matplotlib inline\n",
    "warnings.filterwarnings('ignore')\n",
    "pd.set_option(\"display.float_format\", \"{:.3f}\".format)\n",
    "plt.style.use('ggplot')"
   ]
  },
  {
   "cell_type": "code",
   "execution_count": 2,
   "metadata": {},
   "outputs": [],
   "source": [
    "df = pd.read_csv('hmelq_clean.csv')"
   ]
  },
  {
   "cell_type": "code",
   "execution_count": 3,
   "metadata": {},
   "outputs": [
    {
     "data": {
      "text/html": [
       "<div>\n",
       "<style scoped>\n",
       "    .dataframe tbody tr th:only-of-type {\n",
       "        vertical-align: middle;\n",
       "    }\n",
       "\n",
       "    .dataframe tbody tr th {\n",
       "        vertical-align: top;\n",
       "    }\n",
       "\n",
       "    .dataframe thead th {\n",
       "        text-align: right;\n",
       "    }\n",
       "</style>\n",
       "<table border=\"1\" class=\"dataframe\">\n",
       "  <thead>\n",
       "    <tr style=\"text-align: right;\">\n",
       "      <th></th>\n",
       "      <th>bad</th>\n",
       "      <th>loan</th>\n",
       "      <th>mortdue</th>\n",
       "      <th>value</th>\n",
       "      <th>reason</th>\n",
       "      <th>job</th>\n",
       "      <th>yoj</th>\n",
       "      <th>derog</th>\n",
       "      <th>delinq</th>\n",
       "      <th>clage</th>\n",
       "      <th>ninq</th>\n",
       "      <th>clno</th>\n",
       "      <th>debtinc</th>\n",
       "    </tr>\n",
       "  </thead>\n",
       "  <tbody>\n",
       "    <tr>\n",
       "      <th>0</th>\n",
       "      <td>0</td>\n",
       "      <td>29.311</td>\n",
       "      <td>64.074</td>\n",
       "      <td>16.199</td>\n",
       "      <td>HomeImp</td>\n",
       "      <td>Other</td>\n",
       "      <td>28.000</td>\n",
       "      <td>0.000</td>\n",
       "      <td>0.000</td>\n",
       "      <td>18.711</td>\n",
       "      <td>0.000</td>\n",
       "      <td>14.000</td>\n",
       "      <td>13.321</td>\n",
       "    </tr>\n",
       "    <tr>\n",
       "      <th>1</th>\n",
       "      <td>0</td>\n",
       "      <td>19.771</td>\n",
       "      <td>112.857</td>\n",
       "      <td>16.569</td>\n",
       "      <td>DebtCon</td>\n",
       "      <td>Other</td>\n",
       "      <td>2.000</td>\n",
       "      <td>0.000</td>\n",
       "      <td>0.000</td>\n",
       "      <td>18.002</td>\n",
       "      <td>0.000</td>\n",
       "      <td>25.000</td>\n",
       "      <td>13.443</td>\n",
       "    </tr>\n",
       "    <tr>\n",
       "      <th>2</th>\n",
       "      <td>0</td>\n",
       "      <td>21.390</td>\n",
       "      <td>86.871</td>\n",
       "      <td>14.924</td>\n",
       "      <td>DebtCon</td>\n",
       "      <td>Other</td>\n",
       "      <td>5.000</td>\n",
       "      <td>0.000</td>\n",
       "      <td>0.000</td>\n",
       "      <td>15.992</td>\n",
       "      <td>2.000</td>\n",
       "      <td>9.000</td>\n",
       "      <td>11.077</td>\n",
       "    </tr>\n",
       "  </tbody>\n",
       "</table>\n",
       "</div>"
      ],
      "text/plain": [
       "   bad   loan  mortdue  value   reason    job    yoj  derog  delinq  clage  \\\n",
       "0    0 29.311   64.074 16.199  HomeImp  Other 28.000  0.000   0.000 18.711   \n",
       "1    0 19.771  112.857 16.569  DebtCon  Other  2.000  0.000   0.000 18.002   \n",
       "2    0 21.390   86.871 14.924  DebtCon  Other  5.000  0.000   0.000 15.992   \n",
       "\n",
       "   ninq   clno  debtinc  \n",
       "0 0.000 14.000   13.321  \n",
       "1 0.000 25.000   13.443  \n",
       "2 2.000  9.000   11.077  "
      ]
     },
     "execution_count": 3,
     "metadata": {},
     "output_type": "execute_result"
    }
   ],
   "source": [
    "df.head(3)"
   ]
  },
  {
   "cell_type": "markdown",
   "metadata": {},
   "source": [
    "### Dummy"
   ]
  },
  {
   "cell_type": "code",
   "execution_count": 4,
   "metadata": {},
   "outputs": [],
   "source": [
    "dfCopy = df.copy()\n",
    "\n",
    "dms = pd.get_dummies(dfCopy[['reason','job']])\n",
    "Xn_ = dfCopy.drop(['reason','job'], axis=1)\n",
    "dfDummy = pd.concat([Xn_,dms], axis=1)\n",
    "dfDummy = dfDummy.drop(['reason_DebtCon'], axis=1)"
   ]
  },
  {
   "cell_type": "code",
   "execution_count": 5,
   "metadata": {},
   "outputs": [
    {
     "data": {
      "text/html": [
       "<div>\n",
       "<style scoped>\n",
       "    .dataframe tbody tr th:only-of-type {\n",
       "        vertical-align: middle;\n",
       "    }\n",
       "\n",
       "    .dataframe tbody tr th {\n",
       "        vertical-align: top;\n",
       "    }\n",
       "\n",
       "    .dataframe thead th {\n",
       "        text-align: right;\n",
       "    }\n",
       "</style>\n",
       "<table border=\"1\" class=\"dataframe\">\n",
       "  <thead>\n",
       "    <tr style=\"text-align: right;\">\n",
       "      <th></th>\n",
       "      <th>bad</th>\n",
       "      <th>loan</th>\n",
       "      <th>mortdue</th>\n",
       "      <th>value</th>\n",
       "      <th>yoj</th>\n",
       "      <th>derog</th>\n",
       "      <th>delinq</th>\n",
       "      <th>clage</th>\n",
       "      <th>ninq</th>\n",
       "      <th>clno</th>\n",
       "      <th>debtinc</th>\n",
       "      <th>reason_HomeImp</th>\n",
       "      <th>job_Mgr</th>\n",
       "      <th>job_Office</th>\n",
       "      <th>job_Other</th>\n",
       "      <th>job_ProfEx</th>\n",
       "      <th>job_Sales</th>\n",
       "      <th>job_Self</th>\n",
       "    </tr>\n",
       "  </thead>\n",
       "  <tbody>\n",
       "    <tr>\n",
       "      <th>0</th>\n",
       "      <td>0</td>\n",
       "      <td>29.311</td>\n",
       "      <td>64.074</td>\n",
       "      <td>16.199</td>\n",
       "      <td>28.000</td>\n",
       "      <td>0.000</td>\n",
       "      <td>0.000</td>\n",
       "      <td>18.711</td>\n",
       "      <td>0.000</td>\n",
       "      <td>14.000</td>\n",
       "      <td>13.321</td>\n",
       "      <td>1</td>\n",
       "      <td>0</td>\n",
       "      <td>0</td>\n",
       "      <td>1</td>\n",
       "      <td>0</td>\n",
       "      <td>0</td>\n",
       "      <td>0</td>\n",
       "    </tr>\n",
       "    <tr>\n",
       "      <th>1</th>\n",
       "      <td>0</td>\n",
       "      <td>19.771</td>\n",
       "      <td>112.857</td>\n",
       "      <td>16.569</td>\n",
       "      <td>2.000</td>\n",
       "      <td>0.000</td>\n",
       "      <td>0.000</td>\n",
       "      <td>18.002</td>\n",
       "      <td>0.000</td>\n",
       "      <td>25.000</td>\n",
       "      <td>13.443</td>\n",
       "      <td>0</td>\n",
       "      <td>0</td>\n",
       "      <td>0</td>\n",
       "      <td>1</td>\n",
       "      <td>0</td>\n",
       "      <td>0</td>\n",
       "      <td>0</td>\n",
       "    </tr>\n",
       "    <tr>\n",
       "      <th>2</th>\n",
       "      <td>0</td>\n",
       "      <td>21.390</td>\n",
       "      <td>86.871</td>\n",
       "      <td>14.924</td>\n",
       "      <td>5.000</td>\n",
       "      <td>0.000</td>\n",
       "      <td>0.000</td>\n",
       "      <td>15.992</td>\n",
       "      <td>2.000</td>\n",
       "      <td>9.000</td>\n",
       "      <td>11.077</td>\n",
       "      <td>0</td>\n",
       "      <td>0</td>\n",
       "      <td>0</td>\n",
       "      <td>1</td>\n",
       "      <td>0</td>\n",
       "      <td>0</td>\n",
       "      <td>0</td>\n",
       "    </tr>\n",
       "  </tbody>\n",
       "</table>\n",
       "</div>"
      ],
      "text/plain": [
       "   bad   loan  mortdue  value    yoj  derog  delinq  clage  ninq   clno  \\\n",
       "0    0 29.311   64.074 16.199 28.000  0.000   0.000 18.711 0.000 14.000   \n",
       "1    0 19.771  112.857 16.569  2.000  0.000   0.000 18.002 0.000 25.000   \n",
       "2    0 21.390   86.871 14.924  5.000  0.000   0.000 15.992 2.000  9.000   \n",
       "\n",
       "   debtinc  reason_HomeImp  job_Mgr  job_Office  job_Other  job_ProfEx  \\\n",
       "0   13.321               1        0           0          1           0   \n",
       "1   13.443               0        0           0          1           0   \n",
       "2   11.077               0        0           0          1           0   \n",
       "\n",
       "   job_Sales  job_Self  \n",
       "0          0         0  \n",
       "1          0         0  \n",
       "2          0         0  "
      ]
     },
     "execution_count": 5,
     "metadata": {},
     "output_type": "execute_result"
    }
   ],
   "source": [
    "dfDummy.head(3)"
   ]
  },
  {
   "cell_type": "markdown",
   "metadata": {},
   "source": [
    "## Model"
   ]
  },
  {
   "cell_type": "code",
   "execution_count": 6,
   "metadata": {},
   "outputs": [],
   "source": [
    "from sklearn.linear_model import LogisticRegression\n",
    "from sklearn.tree import DecisionTreeClassifier\n",
    "from sklearn.ensemble import RandomForestClassifier\n",
    "from sklearn.neural_network import MLPClassifier"
   ]
  },
  {
   "cell_type": "code",
   "execution_count": 35,
   "metadata": {},
   "outputs": [],
   "source": [
    "y = dfDummy.bad\n",
    "X = dfDummy.drop(['bad'], axis=1)\n",
    "model = MLPClassifier()"
   ]
  },
  {
   "cell_type": "code",
   "execution_count": 9,
   "metadata": {},
   "outputs": [
    {
     "name": "stdout",
     "output_type": "stream",
     "text": [
      "Accuracy: 0.88408 | AUC: 0.83605\n"
     ]
    },
    {
     "data": {
      "text/html": [
       "<div>\n",
       "<style scoped>\n",
       "    .dataframe tbody tr th:only-of-type {\n",
       "        vertical-align: middle;\n",
       "    }\n",
       "\n",
       "    .dataframe tbody tr th {\n",
       "        vertical-align: top;\n",
       "    }\n",
       "\n",
       "    .dataframe thead th {\n",
       "        text-align: right;\n",
       "    }\n",
       "</style>\n",
       "<table border=\"1\" class=\"dataframe\">\n",
       "  <thead>\n",
       "    <tr style=\"text-align: right;\">\n",
       "      <th></th>\n",
       "      <th>pred_0</th>\n",
       "      <th>pred_1</th>\n",
       "      <th>precision</th>\n",
       "      <th>recall</th>\n",
       "      <th>f1-score</th>\n",
       "      <th>support</th>\n",
       "    </tr>\n",
       "  </thead>\n",
       "  <tbody>\n",
       "    <tr>\n",
       "      <th>0</th>\n",
       "      <td>573</td>\n",
       "      <td>18</td>\n",
       "      <td>0.898</td>\n",
       "      <td>0.970</td>\n",
       "      <td>0.932</td>\n",
       "      <td>591.000</td>\n",
       "    </tr>\n",
       "    <tr>\n",
       "      <th>1</th>\n",
       "      <td>65</td>\n",
       "      <td>60</td>\n",
       "      <td>0.769</td>\n",
       "      <td>0.480</td>\n",
       "      <td>0.591</td>\n",
       "      <td>125.000</td>\n",
       "    </tr>\n",
       "  </tbody>\n",
       "</table>\n",
       "</div>"
      ],
      "text/plain": [
       "   pred_0  pred_1  precision  recall  f1-score  support\n",
       "0     573      18      0.898   0.970     0.932  591.000\n",
       "1      65      60      0.769   0.480     0.591  125.000"
      ]
     },
     "execution_count": 9,
     "metadata": {},
     "output_type": "execute_result"
    }
   ],
   "source": [
    "aio.confusion(X, y, model)"
   ]
  },
  {
   "cell_type": "code",
   "execution_count": 16,
   "metadata": {},
   "outputs": [],
   "source": [
    "dfModel = pd.DataFrame(columns = ['cross-score', 'cross-train', 'train_score', 'test_score', 'precision', 'recall', 'f1-score', 'auc-roc', 'auc-pr'])"
   ]
  },
  {
   "cell_type": "code",
   "execution_count": 17,
   "metadata": {},
   "outputs": [],
   "source": [
    "y = dfDummy.bad\n",
    "X = dfDummy.drop(['bad'], axis=1)\n",
    "model = LogisticRegression()\n",
    "\n",
    "dfModel = dfModel.append(aio.modelframe(X, y, model, 'logistic'))"
   ]
  },
  {
   "cell_type": "code",
   "execution_count": 18,
   "metadata": {},
   "outputs": [],
   "source": [
    "y = dfDummy.bad\n",
    "X = dfDummy.drop(['bad'], axis=1)\n",
    "model = DecisionTreeClassifier()\n",
    "\n",
    "dfModel = dfModel.append(aio.modelframe(X, y, model, 'tree'))"
   ]
  },
  {
   "cell_type": "code",
   "execution_count": 19,
   "metadata": {},
   "outputs": [],
   "source": [
    "y = dfDummy.bad\n",
    "X = dfDummy.drop(['bad'], axis=1)\n",
    "model = RandomForestClassifier()\n",
    "\n",
    "dfModel = dfModel.append(aio.modelframe(X, y, model, 'forest'))"
   ]
  },
  {
   "cell_type": "code",
   "execution_count": 20,
   "metadata": {},
   "outputs": [],
   "source": [
    "y = dfDummy.bad\n",
    "X = dfDummy.drop(['bad'], axis=1)\n",
    "model = MLPClassifier()\n",
    "\n",
    "dfModel = dfModel.append(aio.modelframe(X, y, model, 'neural'))"
   ]
  },
  {
   "cell_type": "code",
   "execution_count": 21,
   "metadata": {},
   "outputs": [
    {
     "data": {
      "text/html": [
       "<div>\n",
       "<style scoped>\n",
       "    .dataframe tbody tr th:only-of-type {\n",
       "        vertical-align: middle;\n",
       "    }\n",
       "\n",
       "    .dataframe tbody tr th {\n",
       "        vertical-align: top;\n",
       "    }\n",
       "\n",
       "    .dataframe thead th {\n",
       "        text-align: right;\n",
       "    }\n",
       "</style>\n",
       "<table border=\"1\" class=\"dataframe\">\n",
       "  <thead>\n",
       "    <tr style=\"text-align: right;\">\n",
       "      <th></th>\n",
       "      <th>cross-score</th>\n",
       "      <th>cross-train</th>\n",
       "      <th>train_score</th>\n",
       "      <th>test_score</th>\n",
       "      <th>precision</th>\n",
       "      <th>recall</th>\n",
       "      <th>f1-score</th>\n",
       "      <th>auc-roc</th>\n",
       "      <th>auc-pr</th>\n",
       "    </tr>\n",
       "  </thead>\n",
       "  <tbody>\n",
       "    <tr>\n",
       "      <th>logistic</th>\n",
       "      <td>0.837</td>\n",
       "      <td>0.836</td>\n",
       "      <td>0.839</td>\n",
       "      <td>0.853</td>\n",
       "      <td>0.647</td>\n",
       "      <td>0.352</td>\n",
       "      <td>0.456</td>\n",
       "      <td>0.782</td>\n",
       "      <td>0.539</td>\n",
       "    </tr>\n",
       "    <tr>\n",
       "      <th>tree</th>\n",
       "      <td>0.863</td>\n",
       "      <td>0.852</td>\n",
       "      <td>1.000</td>\n",
       "      <td>0.860</td>\n",
       "      <td>0.603</td>\n",
       "      <td>0.584</td>\n",
       "      <td>0.593</td>\n",
       "      <td>0.751</td>\n",
       "      <td>0.630</td>\n",
       "    </tr>\n",
       "    <tr>\n",
       "      <th>forest</th>\n",
       "      <td>0.916</td>\n",
       "      <td>0.908</td>\n",
       "      <td>1.000</td>\n",
       "      <td>0.927</td>\n",
       "      <td>0.910</td>\n",
       "      <td>0.648</td>\n",
       "      <td>0.757</td>\n",
       "      <td>0.960</td>\n",
       "      <td>0.870</td>\n",
       "    </tr>\n",
       "    <tr>\n",
       "      <th>neural</th>\n",
       "      <td>0.852</td>\n",
       "      <td>0.845</td>\n",
       "      <td>0.862</td>\n",
       "      <td>0.884</td>\n",
       "      <td>0.862</td>\n",
       "      <td>0.400</td>\n",
       "      <td>0.546</td>\n",
       "      <td>0.825</td>\n",
       "      <td>0.657</td>\n",
       "    </tr>\n",
       "  </tbody>\n",
       "</table>\n",
       "</div>"
      ],
      "text/plain": [
       "          cross-score  cross-train  train_score  test_score  precision  \\\n",
       "logistic        0.837        0.836        0.839       0.853      0.647   \n",
       "tree            0.863        0.852        1.000       0.860      0.603   \n",
       "forest          0.916        0.908        1.000       0.927      0.910   \n",
       "neural          0.852        0.845        0.862       0.884      0.862   \n",
       "\n",
       "          recall  f1-score  auc-roc  auc-pr  \n",
       "logistic   0.352     0.456    0.782   0.539  \n",
       "tree       0.584     0.593    0.751   0.630  \n",
       "forest     0.648     0.757    0.960   0.870  \n",
       "neural     0.400     0.546    0.825   0.657  "
      ]
     },
     "execution_count": 21,
     "metadata": {},
     "output_type": "execute_result"
    }
   ],
   "source": [
    "dfModel"
   ]
  },
  {
   "cell_type": "markdown",
   "metadata": {},
   "source": [
    "### Parametreler"
   ]
  },
  {
   "cell_type": "code",
   "execution_count": 22,
   "metadata": {},
   "outputs": [],
   "source": [
    "from sklearn.model_selection import train_test_split, cross_val_score, GridSearchCV, KFold"
   ]
  },
  {
   "cell_type": "code",
   "execution_count": 28,
   "metadata": {},
   "outputs": [],
   "source": [
    "y = dfDummy.bad\n",
    "X = dfDummy.drop(['bad'], axis=1)\n",
    "\n",
    "neural = MLPClassifier(activation='logistic')\n",
    "params = {'hidden_layer_sizes': [(100,20),(50,20)], 'solver': ['lbfgs', 'adam', 'sgd']}"
   ]
  },
  {
   "cell_type": "code",
   "execution_count": 29,
   "metadata": {},
   "outputs": [
    {
     "name": "stdout",
     "output_type": "stream",
     "text": [
      "Fitting 10 folds for each of 6 candidates, totalling 60 fits\n"
     ]
    },
    {
     "name": "stderr",
     "output_type": "stream",
     "text": [
      "[Parallel(n_jobs=-1)]: Using backend LokyBackend with 8 concurrent workers.\n",
      "[Parallel(n_jobs=-1)]: Done  34 tasks      | elapsed:   36.1s\n",
      "[Parallel(n_jobs=-1)]: Done  60 out of  60 | elapsed:   52.7s finished\n"
     ]
    }
   ],
   "source": [
    "k_fold = KFold(n_splits = 10, shuffle = True, random_state = 42)\n",
    "gridcv_results = GridSearchCV(estimator = neural, param_grid = params, cv = k_fold, n_jobs = -1, verbose = 1).fit(X, y)"
   ]
  },
  {
   "cell_type": "code",
   "execution_count": 30,
   "metadata": {},
   "outputs": [
    {
     "data": {
      "text/plain": [
       "{'hidden_layer_sizes': (100, 20), 'solver': 'adam'}"
      ]
     },
     "execution_count": 30,
     "metadata": {},
     "output_type": "execute_result"
    }
   ],
   "source": [
    "gridcv_results.best_params_"
   ]
  },
  {
   "cell_type": "code",
   "execution_count": 26,
   "metadata": {},
   "outputs": [],
   "source": [
    "model = MLPClassifier(hidden_layer_sizes=(20, 20), solver='lbfgs')\n",
    "\n",
    "dfModel = dfModel.append(aio.modelframe(X, y, model, 'neural_p1'))"
   ]
  },
  {
   "cell_type": "code",
   "execution_count": 31,
   "metadata": {},
   "outputs": [],
   "source": [
    "model = MLPClassifier(hidden_layer_sizes=(100, 20), solver='adam', activation='logistic')\n",
    "\n",
    "dfModel = dfModel.append(aio.modelframe(X, y, model, 'neural_p2'))"
   ]
  },
  {
   "cell_type": "code",
   "execution_count": 32,
   "metadata": {},
   "outputs": [
    {
     "data": {
      "text/html": [
       "<div>\n",
       "<style scoped>\n",
       "    .dataframe tbody tr th:only-of-type {\n",
       "        vertical-align: middle;\n",
       "    }\n",
       "\n",
       "    .dataframe tbody tr th {\n",
       "        vertical-align: top;\n",
       "    }\n",
       "\n",
       "    .dataframe thead th {\n",
       "        text-align: right;\n",
       "    }\n",
       "</style>\n",
       "<table border=\"1\" class=\"dataframe\">\n",
       "  <thead>\n",
       "    <tr style=\"text-align: right;\">\n",
       "      <th></th>\n",
       "      <th>cross-score</th>\n",
       "      <th>cross-train</th>\n",
       "      <th>train_score</th>\n",
       "      <th>test_score</th>\n",
       "      <th>precision</th>\n",
       "      <th>recall</th>\n",
       "      <th>f1-score</th>\n",
       "      <th>auc-roc</th>\n",
       "      <th>auc-pr</th>\n",
       "    </tr>\n",
       "  </thead>\n",
       "  <tbody>\n",
       "    <tr>\n",
       "      <th>logistic</th>\n",
       "      <td>0.837</td>\n",
       "      <td>0.836</td>\n",
       "      <td>0.839</td>\n",
       "      <td>0.853</td>\n",
       "      <td>0.647</td>\n",
       "      <td>0.352</td>\n",
       "      <td>0.456</td>\n",
       "      <td>0.782</td>\n",
       "      <td>0.539</td>\n",
       "    </tr>\n",
       "    <tr>\n",
       "      <th>tree</th>\n",
       "      <td>0.863</td>\n",
       "      <td>0.852</td>\n",
       "      <td>1.000</td>\n",
       "      <td>0.860</td>\n",
       "      <td>0.603</td>\n",
       "      <td>0.584</td>\n",
       "      <td>0.593</td>\n",
       "      <td>0.751</td>\n",
       "      <td>0.630</td>\n",
       "    </tr>\n",
       "    <tr>\n",
       "      <th>forest</th>\n",
       "      <td>0.916</td>\n",
       "      <td>0.908</td>\n",
       "      <td>1.000</td>\n",
       "      <td>0.927</td>\n",
       "      <td>0.910</td>\n",
       "      <td>0.648</td>\n",
       "      <td>0.757</td>\n",
       "      <td>0.960</td>\n",
       "      <td>0.870</td>\n",
       "    </tr>\n",
       "    <tr>\n",
       "      <th>neural</th>\n",
       "      <td>0.852</td>\n",
       "      <td>0.845</td>\n",
       "      <td>0.862</td>\n",
       "      <td>0.884</td>\n",
       "      <td>0.862</td>\n",
       "      <td>0.400</td>\n",
       "      <td>0.546</td>\n",
       "      <td>0.825</td>\n",
       "      <td>0.657</td>\n",
       "    </tr>\n",
       "    <tr>\n",
       "      <th>neural_p1</th>\n",
       "      <td>0.846</td>\n",
       "      <td>0.836</td>\n",
       "      <td>0.845</td>\n",
       "      <td>0.853</td>\n",
       "      <td>0.628</td>\n",
       "      <td>0.392</td>\n",
       "      <td>0.483</td>\n",
       "      <td>0.797</td>\n",
       "      <td>0.560</td>\n",
       "    </tr>\n",
       "    <tr>\n",
       "      <th>neural_p2</th>\n",
       "      <td>0.872</td>\n",
       "      <td>0.850</td>\n",
       "      <td>0.885</td>\n",
       "      <td>0.883</td>\n",
       "      <td>0.747</td>\n",
       "      <td>0.496</td>\n",
       "      <td>0.596</td>\n",
       "      <td>0.830</td>\n",
       "      <td>0.638</td>\n",
       "    </tr>\n",
       "  </tbody>\n",
       "</table>\n",
       "</div>"
      ],
      "text/plain": [
       "           cross-score  cross-train  train_score  test_score  precision  \\\n",
       "logistic         0.837        0.836        0.839       0.853      0.647   \n",
       "tree             0.863        0.852        1.000       0.860      0.603   \n",
       "forest           0.916        0.908        1.000       0.927      0.910   \n",
       "neural           0.852        0.845        0.862       0.884      0.862   \n",
       "neural_p1        0.846        0.836        0.845       0.853      0.628   \n",
       "neural_p2        0.872        0.850        0.885       0.883      0.747   \n",
       "\n",
       "           recall  f1-score  auc-roc  auc-pr  \n",
       "logistic    0.352     0.456    0.782   0.539  \n",
       "tree        0.584     0.593    0.751   0.630  \n",
       "forest      0.648     0.757    0.960   0.870  \n",
       "neural      0.400     0.546    0.825   0.657  \n",
       "neural_p1   0.392     0.483    0.797   0.560  \n",
       "neural_p2   0.496     0.596    0.830   0.638  "
      ]
     },
     "execution_count": 32,
     "metadata": {},
     "output_type": "execute_result"
    }
   ],
   "source": [
    "dfModel"
   ]
  },
  {
   "cell_type": "markdown",
   "metadata": {},
   "source": [
    "## Sonuç"
   ]
  },
  {
   "cell_type": "markdown",
   "metadata": {},
   "source": [
    "- Forest'a göre daha düşük performans gösterdi, ama ucu açık* parametre iyileştirmeleri yapılırsa daha iyi sonuç alınabilir. \n",
    "- Maliyet odaklı incelenirse iyi bir performans sergilemedi, tree ile aynı performansa sahip oldukları söylenebilir.\n",
    "- Parametrik değişiklikler yapıldıktan sonra daha iyi sonuçlar alındı, ama çoklu parametre uygulamak istenirse aşırı zaman gerektirir.\n",
    "    - hiddenlayersizes: (100, 20), solver: adam"
   ]
  }
 ],
 "metadata": {
  "kernelspec": {
   "display_name": "Python 3",
   "language": "python",
   "name": "python3"
  },
  "language_info": {
   "codemirror_mode": {
    "name": "ipython",
    "version": 3
   },
   "file_extension": ".py",
   "mimetype": "text/x-python",
   "name": "python",
   "nbconvert_exporter": "python",
   "pygments_lexer": "ipython3",
   "version": "3.7.7"
  }
 },
 "nbformat": 4,
 "nbformat_minor": 4
}
