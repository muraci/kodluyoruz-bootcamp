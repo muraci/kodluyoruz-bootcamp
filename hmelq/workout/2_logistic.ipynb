{
 "cells": [
  {
   "cell_type": "code",
   "execution_count": 1,
   "metadata": {},
   "outputs": [],
   "source": [
    "import numpy as np\n",
    "import pandas as pd\n",
    "import matplotlib.pyplot as plt\n",
    "import seaborn as sns\n",
    "import warnings\n",
    "\n",
    "import allinone as aio\n",
    "\n",
    "%matplotlib inline\n",
    "warnings.filterwarnings('ignore')\n",
    "pd.set_option(\"display.float_format\", \"{:.3f}\".format)\n",
    "plt.style.use('ggplot')"
   ]
  },
  {
   "cell_type": "code",
   "execution_count": 2,
   "metadata": {},
   "outputs": [],
   "source": [
    "df = pd.read_csv('hmelq_clean.csv')"
   ]
  },
  {
   "cell_type": "code",
   "execution_count": 3,
   "metadata": {},
   "outputs": [
    {
     "data": {
      "text/html": [
       "<div>\n",
       "<style scoped>\n",
       "    .dataframe tbody tr th:only-of-type {\n",
       "        vertical-align: middle;\n",
       "    }\n",
       "\n",
       "    .dataframe tbody tr th {\n",
       "        vertical-align: top;\n",
       "    }\n",
       "\n",
       "    .dataframe thead th {\n",
       "        text-align: right;\n",
       "    }\n",
       "</style>\n",
       "<table border=\"1\" class=\"dataframe\">\n",
       "  <thead>\n",
       "    <tr style=\"text-align: right;\">\n",
       "      <th></th>\n",
       "      <th>bad</th>\n",
       "      <th>loan</th>\n",
       "      <th>mortdue</th>\n",
       "      <th>value</th>\n",
       "      <th>reason</th>\n",
       "      <th>job</th>\n",
       "      <th>yoj</th>\n",
       "      <th>derog</th>\n",
       "      <th>delinq</th>\n",
       "      <th>clage</th>\n",
       "      <th>ninq</th>\n",
       "      <th>clno</th>\n",
       "      <th>debtinc</th>\n",
       "    </tr>\n",
       "  </thead>\n",
       "  <tbody>\n",
       "    <tr>\n",
       "      <th>0</th>\n",
       "      <td>0</td>\n",
       "      <td>29.311</td>\n",
       "      <td>64.074</td>\n",
       "      <td>16.199</td>\n",
       "      <td>HomeImp</td>\n",
       "      <td>Other</td>\n",
       "      <td>28.000</td>\n",
       "      <td>0.000</td>\n",
       "      <td>0.000</td>\n",
       "      <td>18.711</td>\n",
       "      <td>0.000</td>\n",
       "      <td>14.000</td>\n",
       "      <td>13.321</td>\n",
       "    </tr>\n",
       "    <tr>\n",
       "      <th>1</th>\n",
       "      <td>0</td>\n",
       "      <td>19.771</td>\n",
       "      <td>112.857</td>\n",
       "      <td>16.569</td>\n",
       "      <td>DebtCon</td>\n",
       "      <td>Other</td>\n",
       "      <td>2.000</td>\n",
       "      <td>0.000</td>\n",
       "      <td>0.000</td>\n",
       "      <td>18.002</td>\n",
       "      <td>0.000</td>\n",
       "      <td>25.000</td>\n",
       "      <td>13.443</td>\n",
       "    </tr>\n",
       "    <tr>\n",
       "      <th>2</th>\n",
       "      <td>0</td>\n",
       "      <td>21.390</td>\n",
       "      <td>86.871</td>\n",
       "      <td>14.924</td>\n",
       "      <td>DebtCon</td>\n",
       "      <td>Other</td>\n",
       "      <td>5.000</td>\n",
       "      <td>0.000</td>\n",
       "      <td>0.000</td>\n",
       "      <td>15.992</td>\n",
       "      <td>2.000</td>\n",
       "      <td>9.000</td>\n",
       "      <td>11.077</td>\n",
       "    </tr>\n",
       "  </tbody>\n",
       "</table>\n",
       "</div>"
      ],
      "text/plain": [
       "   bad   loan  mortdue  value   reason    job    yoj  derog  delinq  clage  \\\n",
       "0    0 29.311   64.074 16.199  HomeImp  Other 28.000  0.000   0.000 18.711   \n",
       "1    0 19.771  112.857 16.569  DebtCon  Other  2.000  0.000   0.000 18.002   \n",
       "2    0 21.390   86.871 14.924  DebtCon  Other  5.000  0.000   0.000 15.992   \n",
       "\n",
       "   ninq   clno  debtinc  \n",
       "0 0.000 14.000   13.321  \n",
       "1 0.000 25.000   13.443  \n",
       "2 2.000  9.000   11.077  "
      ]
     },
     "execution_count": 3,
     "metadata": {},
     "output_type": "execute_result"
    }
   ],
   "source": [
    "df.head(3)"
   ]
  },
  {
   "cell_type": "markdown",
   "metadata": {},
   "source": [
    "## Scale\n"
   ]
  },
  {
   "cell_type": "code",
   "execution_count": 4,
   "metadata": {},
   "outputs": [],
   "source": [
    "from sklearn.preprocessing import StandardScaler, MinMaxScaler"
   ]
  },
  {
   "cell_type": "code",
   "execution_count": 5,
   "metadata": {},
   "outputs": [],
   "source": [
    "dfCopy = df.copy()\n",
    "x_ = dfCopy[['bad','job','reason']]\n",
    "\n",
    "#StandardScaler\n",
    "scale_col = pd.DataFrame(StandardScaler().fit_transform(dfCopy[['loan', 'mortdue', 'value', 'yoj', 'derog', 'delinq', 'clage', 'ninq', 'clno', 'debtinc']]),\n",
    "            columns=['loan', 'mortdue', 'value', 'yoj', 'derog', 'delinq', 'clage', 'ninq', 'clno', 'debtinc'])\n",
    "dfScale = pd.concat([x_, scale_col], axis=1)\n",
    "\n",
    "#MinMaxScaler\n",
    "minmax_col = pd.DataFrame(MinMaxScaler().fit_transform(dfCopy[['loan', 'mortdue', 'value', 'yoj', 'derog', 'delinq', 'clage', 'ninq', 'clno', 'debtinc']]),\n",
    "            columns=['loan', 'mortdue', 'value', 'yoj', 'derog', 'delinq', 'clage', 'ninq', 'clno', 'debtinc'])\n",
    "dfMinMax = pd.concat([x_, minmax_col], axis=1)"
   ]
  },
  {
   "cell_type": "markdown",
   "metadata": {},
   "source": [
    "## Dummy"
   ]
  },
  {
   "cell_type": "code",
   "execution_count": 6,
   "metadata": {},
   "outputs": [],
   "source": [
    "dms = pd.get_dummies(dfCopy[['reason','job']])\n",
    "\n",
    "#Normal\n",
    "Xn_ = dfCopy.drop(['reason','job'], axis=1)\n",
    "dfCopy_dummy = pd.concat([Xn_,dms], axis=1)\n",
    "dfCopy_dummy = dfCopy_dummy.drop(['reason_DebtCon'], axis=1)\n",
    "\n",
    "#StandardScaler\n",
    "Xs_ = dfScale.drop(['reason','job'], axis=1)\n",
    "dfScale_dummy = pd.concat([Xs_,dms], axis=1)\n",
    "dfScale_dummy = dfScale_dummy.drop(['reason_DebtCon'], axis=1)\n",
    "\n",
    "#MinMaxScaler\n",
    "Xm_ = dfMinMax.drop(['reason','job'], axis=1)\n",
    "dfMinMax_dummy = pd.concat([Xm_,dms], axis=1)\n",
    "dfMinMax_dummy = dfMinMax_dummy.drop(['reason_DebtCon'], axis=1)"
   ]
  },
  {
   "cell_type": "code",
   "execution_count": 7,
   "metadata": {},
   "outputs": [
    {
     "data": {
      "text/html": [
       "<div>\n",
       "<style scoped>\n",
       "    .dataframe tbody tr th:only-of-type {\n",
       "        vertical-align: middle;\n",
       "    }\n",
       "\n",
       "    .dataframe tbody tr th {\n",
       "        vertical-align: top;\n",
       "    }\n",
       "\n",
       "    .dataframe thead th {\n",
       "        text-align: right;\n",
       "    }\n",
       "</style>\n",
       "<table border=\"1\" class=\"dataframe\">\n",
       "  <thead>\n",
       "    <tr style=\"text-align: right;\">\n",
       "      <th></th>\n",
       "      <th>bad</th>\n",
       "      <th>loan</th>\n",
       "      <th>mortdue</th>\n",
       "      <th>value</th>\n",
       "      <th>yoj</th>\n",
       "      <th>derog</th>\n",
       "      <th>delinq</th>\n",
       "      <th>clage</th>\n",
       "      <th>ninq</th>\n",
       "      <th>clno</th>\n",
       "      <th>debtinc</th>\n",
       "      <th>reason_HomeImp</th>\n",
       "      <th>job_Mgr</th>\n",
       "      <th>job_Office</th>\n",
       "      <th>job_Other</th>\n",
       "      <th>job_ProfEx</th>\n",
       "      <th>job_Sales</th>\n",
       "      <th>job_Self</th>\n",
       "    </tr>\n",
       "  </thead>\n",
       "  <tbody>\n",
       "    <tr>\n",
       "      <th>0</th>\n",
       "      <td>0</td>\n",
       "      <td>29.311</td>\n",
       "      <td>64.074</td>\n",
       "      <td>16.199</td>\n",
       "      <td>28.000</td>\n",
       "      <td>0.000</td>\n",
       "      <td>0.000</td>\n",
       "      <td>18.711</td>\n",
       "      <td>0.000</td>\n",
       "      <td>14.000</td>\n",
       "      <td>13.321</td>\n",
       "      <td>1</td>\n",
       "      <td>0</td>\n",
       "      <td>0</td>\n",
       "      <td>1</td>\n",
       "      <td>0</td>\n",
       "      <td>0</td>\n",
       "      <td>0</td>\n",
       "    </tr>\n",
       "    <tr>\n",
       "      <th>1</th>\n",
       "      <td>0</td>\n",
       "      <td>19.771</td>\n",
       "      <td>112.857</td>\n",
       "      <td>16.569</td>\n",
       "      <td>2.000</td>\n",
       "      <td>0.000</td>\n",
       "      <td>0.000</td>\n",
       "      <td>18.002</td>\n",
       "      <td>0.000</td>\n",
       "      <td>25.000</td>\n",
       "      <td>13.443</td>\n",
       "      <td>0</td>\n",
       "      <td>0</td>\n",
       "      <td>0</td>\n",
       "      <td>1</td>\n",
       "      <td>0</td>\n",
       "      <td>0</td>\n",
       "      <td>0</td>\n",
       "    </tr>\n",
       "    <tr>\n",
       "      <th>2</th>\n",
       "      <td>0</td>\n",
       "      <td>21.390</td>\n",
       "      <td>86.871</td>\n",
       "      <td>14.924</td>\n",
       "      <td>5.000</td>\n",
       "      <td>0.000</td>\n",
       "      <td>0.000</td>\n",
       "      <td>15.992</td>\n",
       "      <td>2.000</td>\n",
       "      <td>9.000</td>\n",
       "      <td>11.077</td>\n",
       "      <td>0</td>\n",
       "      <td>0</td>\n",
       "      <td>0</td>\n",
       "      <td>1</td>\n",
       "      <td>0</td>\n",
       "      <td>0</td>\n",
       "      <td>0</td>\n",
       "    </tr>\n",
       "  </tbody>\n",
       "</table>\n",
       "</div>"
      ],
      "text/plain": [
       "   bad   loan  mortdue  value    yoj  derog  delinq  clage  ninq   clno  \\\n",
       "0    0 29.311   64.074 16.199 28.000  0.000   0.000 18.711 0.000 14.000   \n",
       "1    0 19.771  112.857 16.569  2.000  0.000   0.000 18.002 0.000 25.000   \n",
       "2    0 21.390   86.871 14.924  5.000  0.000   0.000 15.992 2.000  9.000   \n",
       "\n",
       "   debtinc  reason_HomeImp  job_Mgr  job_Office  job_Other  job_ProfEx  \\\n",
       "0   13.321               1        0           0          1           0   \n",
       "1   13.443               0        0           0          1           0   \n",
       "2   11.077               0        0           0          1           0   \n",
       "\n",
       "   job_Sales  job_Self  \n",
       "0          0         0  \n",
       "1          0         0  \n",
       "2          0         0  "
      ]
     },
     "execution_count": 7,
     "metadata": {},
     "output_type": "execute_result"
    }
   ],
   "source": [
    "dfCopy_dummy.head(3)"
   ]
  },
  {
   "cell_type": "markdown",
   "metadata": {},
   "source": [
    "## Model"
   ]
  },
  {
   "cell_type": "code",
   "execution_count": 8,
   "metadata": {},
   "outputs": [],
   "source": [
    "from sklearn.linear_model import LogisticRegression"
   ]
  },
  {
   "cell_type": "code",
   "execution_count": 9,
   "metadata": {},
   "outputs": [],
   "source": [
    "y = dfCopy_dummy.bad\n",
    "X = dfCopy_dummy.drop(['bad'], axis=1)\n",
    "\n",
    "model = LogisticRegression()"
   ]
  },
  {
   "cell_type": "code",
   "execution_count": 10,
   "metadata": {},
   "outputs": [
    {
     "name": "stdout",
     "output_type": "stream",
     "text": [
      "Accuracy: 0.85335 | AUC: 0.78166\n"
     ]
    },
    {
     "data": {
      "text/html": [
       "<div>\n",
       "<style scoped>\n",
       "    .dataframe tbody tr th:only-of-type {\n",
       "        vertical-align: middle;\n",
       "    }\n",
       "\n",
       "    .dataframe tbody tr th {\n",
       "        vertical-align: top;\n",
       "    }\n",
       "\n",
       "    .dataframe thead th {\n",
       "        text-align: right;\n",
       "    }\n",
       "</style>\n",
       "<table border=\"1\" class=\"dataframe\">\n",
       "  <thead>\n",
       "    <tr style=\"text-align: right;\">\n",
       "      <th></th>\n",
       "      <th>pred_0</th>\n",
       "      <th>pred_1</th>\n",
       "      <th>precision</th>\n",
       "      <th>recall</th>\n",
       "      <th>f1-score</th>\n",
       "      <th>support</th>\n",
       "    </tr>\n",
       "  </thead>\n",
       "  <tbody>\n",
       "    <tr>\n",
       "      <th>0</th>\n",
       "      <td>567</td>\n",
       "      <td>24</td>\n",
       "      <td>0.875</td>\n",
       "      <td>0.959</td>\n",
       "      <td>0.915</td>\n",
       "      <td>591.000</td>\n",
       "    </tr>\n",
       "    <tr>\n",
       "      <th>1</th>\n",
       "      <td>81</td>\n",
       "      <td>44</td>\n",
       "      <td>0.647</td>\n",
       "      <td>0.352</td>\n",
       "      <td>0.456</td>\n",
       "      <td>125.000</td>\n",
       "    </tr>\n",
       "  </tbody>\n",
       "</table>\n",
       "</div>"
      ],
      "text/plain": [
       "   pred_0  pred_1  precision  recall  f1-score  support\n",
       "0     567      24      0.875   0.959     0.915  591.000\n",
       "1      81      44      0.647   0.352     0.456  125.000"
      ]
     },
     "execution_count": 10,
     "metadata": {},
     "output_type": "execute_result"
    }
   ],
   "source": [
    "aio.confusion(X, y, model)"
   ]
  },
  {
   "cell_type": "code",
   "execution_count": 11,
   "metadata": {},
   "outputs": [],
   "source": [
    "dfModel = pd.DataFrame(columns = ['cross-val', 'train_score', 'test_score', 'precision', 'recall', 'f1-score', 'auc-roc', 'auc-pr'])"
   ]
  },
  {
   "cell_type": "code",
   "execution_count": 12,
   "metadata": {},
   "outputs": [],
   "source": [
    "y = dfCopy_dummy.bad\n",
    "X = dfCopy_dummy.drop(['bad'], axis=1)\n",
    "model = LogisticRegression()\n",
    "\n",
    "dfModel = dfModel.append(aio.modelframe(X, y, model, 'log'))"
   ]
  },
  {
   "cell_type": "code",
   "execution_count": 13,
   "metadata": {},
   "outputs": [],
   "source": [
    "y_scale = dfScale_dummy.bad\n",
    "X_scale = dfScale_dummy.drop(['bad'], axis=1)\n",
    "model = LogisticRegression()\n",
    "\n",
    "dfModel = dfModel.append(aio.modelframe(X_scale, y_scale, model, 'log_scale'))"
   ]
  },
  {
   "cell_type": "code",
   "execution_count": 14,
   "metadata": {},
   "outputs": [],
   "source": [
    "y_minmax = dfMinMax_dummy.bad\n",
    "X_minmax = dfMinMax_dummy.drop(['bad'], axis=1)\n",
    "model = LogisticRegression()\n",
    "\n",
    "dfModel = dfModel.append(aio.modelframe(X_minmax, y_minmax, model, 'log_minmax'))"
   ]
  },
  {
   "cell_type": "code",
   "execution_count": 15,
   "metadata": {},
   "outputs": [],
   "source": [
    "y_clno = dfCopy_dummy.bad\n",
    "X_clno = dfCopy_dummy.drop(['bad','clno'], axis=1)\n",
    "model = LogisticRegression()\n",
    "\n",
    "dfModel = dfModel.append(aio.modelframe(X_clno, y_clno, model, 'log_clno'))"
   ]
  },
  {
   "cell_type": "code",
   "execution_count": 16,
   "metadata": {},
   "outputs": [],
   "source": [
    "y = dfCopy_dummy.bad\n",
    "X = dfCopy_dummy.drop(['bad'], axis=1)\n",
    "model_l1 = LogisticRegression(penalty='l1', solver='liblinear')\n",
    "\n",
    "dfModel = dfModel.append(aio.modelframe(X, y, model_l1, 'log_l1'))"
   ]
  },
  {
   "cell_type": "code",
   "execution_count": 17,
   "metadata": {},
   "outputs": [],
   "source": [
    "y = dfCopy_dummy.bad\n",
    "X = dfCopy_dummy.drop(['bad'], axis=1)\n",
    "model_lib = LogisticRegression(solver='liblinear')\n",
    "\n",
    "dfModel = dfModel.append(aio.modelframe(X, y, model_lib, 'log_lib'))"
   ]
  },
  {
   "cell_type": "code",
   "execution_count": 18,
   "metadata": {},
   "outputs": [
    {
     "data": {
      "text/html": [
       "<div>\n",
       "<style scoped>\n",
       "    .dataframe tbody tr th:only-of-type {\n",
       "        vertical-align: middle;\n",
       "    }\n",
       "\n",
       "    .dataframe tbody tr th {\n",
       "        vertical-align: top;\n",
       "    }\n",
       "\n",
       "    .dataframe thead th {\n",
       "        text-align: right;\n",
       "    }\n",
       "</style>\n",
       "<table border=\"1\" class=\"dataframe\">\n",
       "  <thead>\n",
       "    <tr style=\"text-align: right;\">\n",
       "      <th></th>\n",
       "      <th>cross-val</th>\n",
       "      <th>train_score</th>\n",
       "      <th>test_score</th>\n",
       "      <th>precision</th>\n",
       "      <th>recall</th>\n",
       "      <th>f1-score</th>\n",
       "      <th>auc-roc</th>\n",
       "      <th>auc-pr</th>\n",
       "    </tr>\n",
       "  </thead>\n",
       "  <tbody>\n",
       "    <tr>\n",
       "      <th>log</th>\n",
       "      <td>0.837</td>\n",
       "      <td>0.839</td>\n",
       "      <td>0.853</td>\n",
       "      <td>0.647</td>\n",
       "      <td>0.352</td>\n",
       "      <td>0.456</td>\n",
       "      <td>0.782</td>\n",
       "      <td>0.539</td>\n",
       "    </tr>\n",
       "    <tr>\n",
       "      <th>log_scale</th>\n",
       "      <td>0.837</td>\n",
       "      <td>0.838</td>\n",
       "      <td>0.851</td>\n",
       "      <td>0.632</td>\n",
       "      <td>0.344</td>\n",
       "      <td>0.446</td>\n",
       "      <td>0.782</td>\n",
       "      <td>0.541</td>\n",
       "    </tr>\n",
       "    <tr>\n",
       "      <th>log_minmax</th>\n",
       "      <td>0.836</td>\n",
       "      <td>0.830</td>\n",
       "      <td>0.860</td>\n",
       "      <td>0.821</td>\n",
       "      <td>0.256</td>\n",
       "      <td>0.390</td>\n",
       "      <td>0.774</td>\n",
       "      <td>0.540</td>\n",
       "    </tr>\n",
       "    <tr>\n",
       "      <th>log_clno</th>\n",
       "      <td>0.836</td>\n",
       "      <td>0.837</td>\n",
       "      <td>0.848</td>\n",
       "      <td>0.618</td>\n",
       "      <td>0.336</td>\n",
       "      <td>0.435</td>\n",
       "      <td>0.782</td>\n",
       "      <td>0.539</td>\n",
       "    </tr>\n",
       "    <tr>\n",
       "      <th>log_l1</th>\n",
       "      <td>0.837</td>\n",
       "      <td>0.838</td>\n",
       "      <td>0.849</td>\n",
       "      <td>0.623</td>\n",
       "      <td>0.344</td>\n",
       "      <td>0.443</td>\n",
       "      <td>0.783</td>\n",
       "      <td>0.540</td>\n",
       "    </tr>\n",
       "    <tr>\n",
       "      <th>log_lib</th>\n",
       "      <td>0.837</td>\n",
       "      <td>0.838</td>\n",
       "      <td>0.851</td>\n",
       "      <td>0.629</td>\n",
       "      <td>0.352</td>\n",
       "      <td>0.451</td>\n",
       "      <td>0.783</td>\n",
       "      <td>0.541</td>\n",
       "    </tr>\n",
       "  </tbody>\n",
       "</table>\n",
       "</div>"
      ],
      "text/plain": [
       "            cross-val  train_score  test_score  precision  recall  f1-score  \\\n",
       "log             0.837        0.839       0.853      0.647   0.352     0.456   \n",
       "log_scale       0.837        0.838       0.851      0.632   0.344     0.446   \n",
       "log_minmax      0.836        0.830       0.860      0.821   0.256     0.390   \n",
       "log_clno        0.836        0.837       0.848      0.618   0.336     0.435   \n",
       "log_l1          0.837        0.838       0.849      0.623   0.344     0.443   \n",
       "log_lib         0.837        0.838       0.851      0.629   0.352     0.451   \n",
       "\n",
       "            auc-roc  auc-pr  \n",
       "log           0.782   0.539  \n",
       "log_scale     0.782   0.541  \n",
       "log_minmax    0.774   0.540  \n",
       "log_clno      0.782   0.539  \n",
       "log_l1        0.783   0.540  \n",
       "log_lib       0.783   0.541  "
      ]
     },
     "execution_count": 18,
     "metadata": {},
     "output_type": "execute_result"
    }
   ],
   "source": [
    "dfModel"
   ]
  },
  {
   "cell_type": "code",
   "execution_count": 19,
   "metadata": {},
   "outputs": [
    {
     "data": {
      "image/png": "[encoded data removed]",
      "text/plain": [
       "<Figure size 1080x288 with 2 Axes>"
      ]
     },
     "metadata": {},
     "output_type": "display_data"
    }
   ],
   "source": [
    "plt.figure(figsize=(15, 4))\n",
    "aio.modelcurve(X, y, model)"
   ]
  },
  {
   "cell_type": "markdown",
   "metadata": {},
   "source": [
    "## Sonuç"
   ]
  },
  {
   "cell_type": "markdown",
   "metadata": {},
   "source": [
    "- Ham veri üzerinden normalize ve standartize yeni veriler oluşturuldu. Alternatif modeller üzerinde lojistik regresyon uygulandı. Normal veri için conf. matrix incelendiğinde iyi müşteri tahmini yüksek sonuçlandı, ama kötü müşteri tahmininde iyi performans sergilemedi. Kötü müşteriyi yanlış tahminlemeden dolayı, bu sonuçlar olumsuz maliyetler doğuralabilir. Maliyet analizine göre Recall artışına ihtiyacımız vardır.\n",
    "- Farklı scale'ler üzerinden model incelendidğinde, en iyi recall değeri normal veride yakalandı. Diğer performans değerleri için yaklaşık sayılar gözlemlendi.\n",
    "- p değerlerine bakıldığında, clno değişkeni hedef üzerinde anlamsız bir etkisi vardı. Modelden çıkarıldığında, performansta düşüş yaşandı.\n",
    "- Model yöntemi üzerinde parametrik değişiklikler yapıldı, ama performans üzerinde etkili olmadı.\n",
    "- Hedef değişkenin 80-20 dağılımı olduğundan dolayı, kısmi bir dengesizilik söz konusu olduğu düşünüldü. Dolayısıyla veri setinin performansı için roc eğrisi yerine, recall/precision eğrisi incelenmiştir. Genel olarak pr-auc değeri iyi performans göstermemiştir."
   ]
  }
 ],
 "metadata": {
  "kernelspec": {
   "display_name": "Python 3",
   "language": "python",
   "name": "python3"
  },
  "language_info": {
   "codemirror_mode": {
    "name": "ipython",
    "version": 3
   },
   "file_extension": ".py",
   "mimetype": "text/x-python",
   "name": "python",
   "nbconvert_exporter": "python",
   "pygments_lexer": "ipython3",
   "version": "3.7.7"
  }
 },
 "nbformat": 4,
 "nbformat_minor": 4
}
