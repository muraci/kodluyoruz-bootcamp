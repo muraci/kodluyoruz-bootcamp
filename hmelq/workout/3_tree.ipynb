{
 "cells": [
  {
   "cell_type": "code",
   "execution_count": 1,
   "metadata": {},
   "outputs": [],
   "source": [
    "import numpy as np\n",
    "import pandas as pd\n",
    "import matplotlib.pyplot as plt\n",
    "import seaborn as sns\n",
    "import warnings\n",
    "\n",
    "import allinone as aio\n",
    "\n",
    "%matplotlib inline\n",
    "warnings.filterwarnings('ignore')\n",
    "pd.set_option(\"display.float_format\", \"{:.3f}\".format)\n",
    "plt.style.use('ggplot')"
   ]
  },
  {
   "cell_type": "code",
   "execution_count": 2,
   "metadata": {},
   "outputs": [],
   "source": [
    "df = pd.read_csv('hmelq_clean.csv')"
   ]
  },
  {
   "cell_type": "code",
   "execution_count": 3,
   "metadata": {},
   "outputs": [
    {
     "data": {
      "text/html": [
       "<div>\n",
       "<style scoped>\n",
       "    .dataframe tbody tr th:only-of-type {\n",
       "        vertical-align: middle;\n",
       "    }\n",
       "\n",
       "    .dataframe tbody tr th {\n",
       "        vertical-align: top;\n",
       "    }\n",
       "\n",
       "    .dataframe thead th {\n",
       "        text-align: right;\n",
       "    }\n",
       "</style>\n",
       "<table border=\"1\" class=\"dataframe\">\n",
       "  <thead>\n",
       "    <tr style=\"text-align: right;\">\n",
       "      <th></th>\n",
       "      <th>bad</th>\n",
       "      <th>loan</th>\n",
       "      <th>mortdue</th>\n",
       "      <th>value</th>\n",
       "      <th>reason</th>\n",
       "      <th>job</th>\n",
       "      <th>yoj</th>\n",
       "      <th>derog</th>\n",
       "      <th>delinq</th>\n",
       "      <th>clage</th>\n",
       "      <th>ninq</th>\n",
       "      <th>clno</th>\n",
       "      <th>debtinc</th>\n",
       "    </tr>\n",
       "  </thead>\n",
       "  <tbody>\n",
       "    <tr>\n",
       "      <th>0</th>\n",
       "      <td>0</td>\n",
       "      <td>29.311</td>\n",
       "      <td>64.074</td>\n",
       "      <td>16.199</td>\n",
       "      <td>HomeImp</td>\n",
       "      <td>Other</td>\n",
       "      <td>28.000</td>\n",
       "      <td>0.000</td>\n",
       "      <td>0.000</td>\n",
       "      <td>18.711</td>\n",
       "      <td>0.000</td>\n",
       "      <td>14.000</td>\n",
       "      <td>13.321</td>\n",
       "    </tr>\n",
       "    <tr>\n",
       "      <th>1</th>\n",
       "      <td>0</td>\n",
       "      <td>19.771</td>\n",
       "      <td>112.857</td>\n",
       "      <td>16.569</td>\n",
       "      <td>DebtCon</td>\n",
       "      <td>Other</td>\n",
       "      <td>2.000</td>\n",
       "      <td>0.000</td>\n",
       "      <td>0.000</td>\n",
       "      <td>18.002</td>\n",
       "      <td>0.000</td>\n",
       "      <td>25.000</td>\n",
       "      <td>13.443</td>\n",
       "    </tr>\n",
       "    <tr>\n",
       "      <th>2</th>\n",
       "      <td>0</td>\n",
       "      <td>21.390</td>\n",
       "      <td>86.871</td>\n",
       "      <td>14.924</td>\n",
       "      <td>DebtCon</td>\n",
       "      <td>Other</td>\n",
       "      <td>5.000</td>\n",
       "      <td>0.000</td>\n",
       "      <td>0.000</td>\n",
       "      <td>15.992</td>\n",
       "      <td>2.000</td>\n",
       "      <td>9.000</td>\n",
       "      <td>11.077</td>\n",
       "    </tr>\n",
       "  </tbody>\n",
       "</table>\n",
       "</div>"
      ],
      "text/plain": [
       "   bad   loan  mortdue  value   reason    job    yoj  derog  delinq  clage  \\\n",
       "0    0 29.311   64.074 16.199  HomeImp  Other 28.000  0.000   0.000 18.711   \n",
       "1    0 19.771  112.857 16.569  DebtCon  Other  2.000  0.000   0.000 18.002   \n",
       "2    0 21.390   86.871 14.924  DebtCon  Other  5.000  0.000   0.000 15.992   \n",
       "\n",
       "   ninq   clno  debtinc  \n",
       "0 0.000 14.000   13.321  \n",
       "1 0.000 25.000   13.443  \n",
       "2 2.000  9.000   11.077  "
      ]
     },
     "execution_count": 3,
     "metadata": {},
     "output_type": "execute_result"
    }
   ],
   "source": [
    "df.head(3)"
   ]
  },
  {
   "cell_type": "markdown",
   "metadata": {},
   "source": [
    "### Dummy"
   ]
  },
  {
   "cell_type": "code",
   "execution_count": 4,
   "metadata": {},
   "outputs": [],
   "source": [
    "dfCopy = df.copy()\n",
    "\n",
    "dms = pd.get_dummies(dfCopy[['reason','job']])\n",
    "Xn_ = dfCopy.drop(['reason','job'], axis=1)\n",
    "dfDummy = pd.concat([Xn_,dms], axis=1)\n",
    "dfDummy = dfDummy.drop(['reason_DebtCon'], axis=1)"
   ]
  },
  {
   "cell_type": "code",
   "execution_count": 5,
   "metadata": {},
   "outputs": [
    {
     "data": {
      "text/html": [
       "<div>\n",
       "<style scoped>\n",
       "    .dataframe tbody tr th:only-of-type {\n",
       "        vertical-align: middle;\n",
       "    }\n",
       "\n",
       "    .dataframe tbody tr th {\n",
       "        vertical-align: top;\n",
       "    }\n",
       "\n",
       "    .dataframe thead th {\n",
       "        text-align: right;\n",
       "    }\n",
       "</style>\n",
       "<table border=\"1\" class=\"dataframe\">\n",
       "  <thead>\n",
       "    <tr style=\"text-align: right;\">\n",
       "      <th></th>\n",
       "      <th>bad</th>\n",
       "      <th>loan</th>\n",
       "      <th>mortdue</th>\n",
       "      <th>value</th>\n",
       "      <th>yoj</th>\n",
       "      <th>derog</th>\n",
       "      <th>delinq</th>\n",
       "      <th>clage</th>\n",
       "      <th>ninq</th>\n",
       "      <th>clno</th>\n",
       "      <th>debtinc</th>\n",
       "      <th>reason_HomeImp</th>\n",
       "      <th>job_Mgr</th>\n",
       "      <th>job_Office</th>\n",
       "      <th>job_Other</th>\n",
       "      <th>job_ProfEx</th>\n",
       "      <th>job_Sales</th>\n",
       "      <th>job_Self</th>\n",
       "    </tr>\n",
       "  </thead>\n",
       "  <tbody>\n",
       "    <tr>\n",
       "      <th>0</th>\n",
       "      <td>0</td>\n",
       "      <td>29.311</td>\n",
       "      <td>64.074</td>\n",
       "      <td>16.199</td>\n",
       "      <td>28.000</td>\n",
       "      <td>0.000</td>\n",
       "      <td>0.000</td>\n",
       "      <td>18.711</td>\n",
       "      <td>0.000</td>\n",
       "      <td>14.000</td>\n",
       "      <td>13.321</td>\n",
       "      <td>1</td>\n",
       "      <td>0</td>\n",
       "      <td>0</td>\n",
       "      <td>1</td>\n",
       "      <td>0</td>\n",
       "      <td>0</td>\n",
       "      <td>0</td>\n",
       "    </tr>\n",
       "    <tr>\n",
       "      <th>1</th>\n",
       "      <td>0</td>\n",
       "      <td>19.771</td>\n",
       "      <td>112.857</td>\n",
       "      <td>16.569</td>\n",
       "      <td>2.000</td>\n",
       "      <td>0.000</td>\n",
       "      <td>0.000</td>\n",
       "      <td>18.002</td>\n",
       "      <td>0.000</td>\n",
       "      <td>25.000</td>\n",
       "      <td>13.443</td>\n",
       "      <td>0</td>\n",
       "      <td>0</td>\n",
       "      <td>0</td>\n",
       "      <td>1</td>\n",
       "      <td>0</td>\n",
       "      <td>0</td>\n",
       "      <td>0</td>\n",
       "    </tr>\n",
       "    <tr>\n",
       "      <th>2</th>\n",
       "      <td>0</td>\n",
       "      <td>21.390</td>\n",
       "      <td>86.871</td>\n",
       "      <td>14.924</td>\n",
       "      <td>5.000</td>\n",
       "      <td>0.000</td>\n",
       "      <td>0.000</td>\n",
       "      <td>15.992</td>\n",
       "      <td>2.000</td>\n",
       "      <td>9.000</td>\n",
       "      <td>11.077</td>\n",
       "      <td>0</td>\n",
       "      <td>0</td>\n",
       "      <td>0</td>\n",
       "      <td>1</td>\n",
       "      <td>0</td>\n",
       "      <td>0</td>\n",
       "      <td>0</td>\n",
       "    </tr>\n",
       "  </tbody>\n",
       "</table>\n",
       "</div>"
      ],
      "text/plain": [
       "   bad   loan  mortdue  value    yoj  derog  delinq  clage  ninq   clno  \\\n",
       "0    0 29.311   64.074 16.199 28.000  0.000   0.000 18.711 0.000 14.000   \n",
       "1    0 19.771  112.857 16.569  2.000  0.000   0.000 18.002 0.000 25.000   \n",
       "2    0 21.390   86.871 14.924  5.000  0.000   0.000 15.992 2.000  9.000   \n",
       "\n",
       "   debtinc  reason_HomeImp  job_Mgr  job_Office  job_Other  job_ProfEx  \\\n",
       "0   13.321               1        0           0          1           0   \n",
       "1   13.443               0        0           0          1           0   \n",
       "2   11.077               0        0           0          1           0   \n",
       "\n",
       "   job_Sales  job_Self  \n",
       "0          0         0  \n",
       "1          0         0  \n",
       "2          0         0  "
      ]
     },
     "execution_count": 5,
     "metadata": {},
     "output_type": "execute_result"
    }
   ],
   "source": [
    "dfDummy.head(3)"
   ]
  },
  {
   "cell_type": "markdown",
   "metadata": {},
   "source": [
    "## Model"
   ]
  },
  {
   "cell_type": "code",
   "execution_count": 6,
   "metadata": {},
   "outputs": [],
   "source": [
    "from sklearn.linear_model import LogisticRegression\n",
    "from sklearn.tree import DecisionTreeClassifier"
   ]
  },
  {
   "cell_type": "code",
   "execution_count": 7,
   "metadata": {},
   "outputs": [],
   "source": [
    "y = dfDummy.bad\n",
    "X = dfDummy.drop(['bad'], axis=1)\n",
    "\n",
    "model = DecisionTreeClassifier()"
   ]
  },
  {
   "cell_type": "code",
   "execution_count": 8,
   "metadata": {},
   "outputs": [
    {
     "name": "stdout",
     "output_type": "stream",
     "text": [
      "Accuracy: 0.86732 | AUC: 0.77770\n"
     ]
    },
    {
     "data": {
      "text/html": [
       "<div>\n",
       "<style scoped>\n",
       "    .dataframe tbody tr th:only-of-type {\n",
       "        vertical-align: middle;\n",
       "    }\n",
       "\n",
       "    .dataframe tbody tr th {\n",
       "        vertical-align: top;\n",
       "    }\n",
       "\n",
       "    .dataframe thead th {\n",
       "        text-align: right;\n",
       "    }\n",
       "</style>\n",
       "<table border=\"1\" class=\"dataframe\">\n",
       "  <thead>\n",
       "    <tr style=\"text-align: right;\">\n",
       "      <th></th>\n",
       "      <th>pred_0</th>\n",
       "      <th>pred_1</th>\n",
       "      <th>precision</th>\n",
       "      <th>recall</th>\n",
       "      <th>f1-score</th>\n",
       "      <th>support</th>\n",
       "    </tr>\n",
       "  </thead>\n",
       "  <tbody>\n",
       "    <tr>\n",
       "      <th>0</th>\n",
       "      <td>541</td>\n",
       "      <td>50</td>\n",
       "      <td>0.923</td>\n",
       "      <td>0.915</td>\n",
       "      <td>0.919</td>\n",
       "      <td>591.000</td>\n",
       "    </tr>\n",
       "    <tr>\n",
       "      <th>1</th>\n",
       "      <td>45</td>\n",
       "      <td>80</td>\n",
       "      <td>0.615</td>\n",
       "      <td>0.640</td>\n",
       "      <td>0.627</td>\n",
       "      <td>125.000</td>\n",
       "    </tr>\n",
       "  </tbody>\n",
       "</table>\n",
       "</div>"
      ],
      "text/plain": [
       "   pred_0  pred_1  precision  recall  f1-score  support\n",
       "0     541      50      0.923   0.915     0.919  591.000\n",
       "1      45      80      0.615   0.640     0.627  125.000"
      ]
     },
     "execution_count": 8,
     "metadata": {},
     "output_type": "execute_result"
    }
   ],
   "source": [
    "aio.confusion(X, y, model)"
   ]
  },
  {
   "cell_type": "code",
   "execution_count": 44,
   "metadata": {},
   "outputs": [],
   "source": [
    "dfModel = pd.DataFrame(columns = ['cross-val', 'train_score', 'test_score', 'precision', 'recall', 'f1-score', 'auc-roc', 'auc-pr'])"
   ]
  },
  {
   "cell_type": "code",
   "execution_count": 45,
   "metadata": {},
   "outputs": [],
   "source": [
    "y = dfDummy.bad\n",
    "X = dfDummy.drop(['bad'], axis=1)\n",
    "model = LogisticRegression()\n",
    "\n",
    "dfModel = dfModel.append(aio.modelframe(X, y, model, 'log'))"
   ]
  },
  {
   "cell_type": "code",
   "execution_count": 46,
   "metadata": {},
   "outputs": [],
   "source": [
    "y = dfDummy.bad\n",
    "X = dfDummy.drop(['bad'], axis=1)\n",
    "model = DecisionTreeClassifier()\n",
    "\n",
    "dfModel = dfModel.append(aio.modelframe(X, y, model, 'dtree'))"
   ]
  },
  {
   "cell_type": "code",
   "execution_count": 47,
   "metadata": {},
   "outputs": [
    {
     "data": {
      "text/html": [
       "<div>\n",
       "<style scoped>\n",
       "    .dataframe tbody tr th:only-of-type {\n",
       "        vertical-align: middle;\n",
       "    }\n",
       "\n",
       "    .dataframe tbody tr th {\n",
       "        vertical-align: top;\n",
       "    }\n",
       "\n",
       "    .dataframe thead th {\n",
       "        text-align: right;\n",
       "    }\n",
       "</style>\n",
       "<table border=\"1\" class=\"dataframe\">\n",
       "  <thead>\n",
       "    <tr style=\"text-align: right;\">\n",
       "      <th></th>\n",
       "      <th>cross-val</th>\n",
       "      <th>train_score</th>\n",
       "      <th>test_score</th>\n",
       "      <th>precision</th>\n",
       "      <th>recall</th>\n",
       "      <th>f1-score</th>\n",
       "      <th>auc-roc</th>\n",
       "      <th>auc-pr</th>\n",
       "    </tr>\n",
       "  </thead>\n",
       "  <tbody>\n",
       "    <tr>\n",
       "      <th>log</th>\n",
       "      <td>0.837</td>\n",
       "      <td>0.839</td>\n",
       "      <td>0.853</td>\n",
       "      <td>0.647</td>\n",
       "      <td>0.352</td>\n",
       "      <td>0.456</td>\n",
       "      <td>0.782</td>\n",
       "      <td>0.539</td>\n",
       "    </tr>\n",
       "    <tr>\n",
       "      <th>dtree</th>\n",
       "      <td>0.864</td>\n",
       "      <td>1.000</td>\n",
       "      <td>0.865</td>\n",
       "      <td>0.608</td>\n",
       "      <td>0.632</td>\n",
       "      <td>0.620</td>\n",
       "      <td>0.773</td>\n",
       "      <td>0.652</td>\n",
       "    </tr>\n",
       "  </tbody>\n",
       "</table>\n",
       "</div>"
      ],
      "text/plain": [
       "       cross-val  train_score  test_score  precision  recall  f1-score  \\\n",
       "log        0.837        0.839       0.853      0.647   0.352     0.456   \n",
       "dtree      0.864        1.000       0.865      0.608   0.632     0.620   \n",
       "\n",
       "       auc-roc  auc-pr  \n",
       "log      0.782   0.539  \n",
       "dtree    0.773   0.652  "
      ]
     },
     "execution_count": 47,
     "metadata": {},
     "output_type": "execute_result"
    }
   ],
   "source": [
    "dfModel"
   ]
  },
  {
   "cell_type": "markdown",
   "metadata": {},
   "source": [
    "### Parametreler"
   ]
  },
  {
   "cell_type": "code",
   "execution_count": 13,
   "metadata": {},
   "outputs": [],
   "source": [
    "from sklearn.model_selection import train_test_split, cross_val_score, GridSearchCV, KFold\n",
    "from sklearn.tree import DecisionTreeRegressor, DecisionTreeClassifier"
   ]
  },
  {
   "cell_type": "code",
   "execution_count": 106,
   "metadata": {},
   "outputs": [],
   "source": [
    "y = dfDummy.bad\n",
    "X = dfDummy.drop(['bad'], axis=1)\n",
    "\n",
    "dtree = DecisionTreeClassifier()\n",
    "params = {'min_samples_split': [2, 4, 8, 16, 32, 48, 64], 'max_depth': [2, 4, 8, 16, 32, 48, 64], 'min_samples_leaf': [2, 8, 16, 32, 48, 64]}"
   ]
  },
  {
   "cell_type": "code",
   "execution_count": 107,
   "metadata": {},
   "outputs": [],
   "source": [
    "k_fold = KFold(n_splits = 10, shuffle = True, random_state = 42)\n",
    "gridcv_results = GridSearchCV(estimator = dtree, param_grid = params, cv = k_fold, n_jobs = -1, verbose = 0).fit(X, y)"
   ]
  },
  {
   "cell_type": "code",
   "execution_count": 108,
   "metadata": {},
   "outputs": [
    {
     "data": {
      "text/plain": [
       "{'max_depth': 16, 'min_samples_leaf': 16, 'min_samples_split': 64}"
      ]
     },
     "execution_count": 108,
     "metadata": {},
     "output_type": "execute_result"
    }
   ],
   "source": [
    "gridcv_results.best_params_"
   ]
  },
  {
   "cell_type": "code",
   "execution_count": 52,
   "metadata": {},
   "outputs": [],
   "source": [
    "model = DecisionTreeClassifier(max_depth=32, min_samples_leaf=2, min_samples_split=2)\n",
    "\n",
    "dfModel = dfModel.append(aio.modelframe(X, y, model, 'dtree_p1'))"
   ]
  },
  {
   "cell_type": "code",
   "execution_count": 55,
   "metadata": {},
   "outputs": [],
   "source": [
    "model = DecisionTreeClassifier(max_depth=8, min_samples_leaf=2, min_samples_split=2)\n",
    "\n",
    "dfModel = dfModel.append(aio.modelframe(X, y, model, 'dtree_p2'))"
   ]
  },
  {
   "cell_type": "code",
   "execution_count": 58,
   "metadata": {},
   "outputs": [],
   "source": [
    "model = DecisionTreeClassifier(max_depth=8, min_samples_leaf=1, min_samples_split=2)\n",
    "\n",
    "dfModel = dfModel.append(aio.modelframe(X, y, model, 'dtree_p3'))"
   ]
  },
  {
   "cell_type": "code",
   "execution_count": 60,
   "metadata": {},
   "outputs": [],
   "source": [
    "model = DecisionTreeClassifier(max_depth=8, min_samples_leaf=4, min_samples_split=2)\n",
    "\n",
    "dfModel = dfModel.append(aio.modelframe(X, y, model, 'dtree_p4'))"
   ]
  },
  {
   "cell_type": "code",
   "execution_count": 109,
   "metadata": {},
   "outputs": [],
   "source": [
    "model = DecisionTreeClassifier(max_depth=16, min_samples_leaf=16, min_samples_split=64)\n",
    "\n",
    "dfModel = dfModel.append(aio.modelframe(X, y, model, 'dtree_p5'))"
   ]
  },
  {
   "cell_type": "code",
   "execution_count": 110,
   "metadata": {},
   "outputs": [
    {
     "data": {
      "text/html": [
       "<div>\n",
       "<style scoped>\n",
       "    .dataframe tbody tr th:only-of-type {\n",
       "        vertical-align: middle;\n",
       "    }\n",
       "\n",
       "    .dataframe tbody tr th {\n",
       "        vertical-align: top;\n",
       "    }\n",
       "\n",
       "    .dataframe thead th {\n",
       "        text-align: right;\n",
       "    }\n",
       "</style>\n",
       "<table border=\"1\" class=\"dataframe\">\n",
       "  <thead>\n",
       "    <tr style=\"text-align: right;\">\n",
       "      <th></th>\n",
       "      <th>cross-val</th>\n",
       "      <th>train_score</th>\n",
       "      <th>test_score</th>\n",
       "      <th>precision</th>\n",
       "      <th>recall</th>\n",
       "      <th>f1-score</th>\n",
       "      <th>auc-roc</th>\n",
       "      <th>auc-pr</th>\n",
       "    </tr>\n",
       "  </thead>\n",
       "  <tbody>\n",
       "    <tr>\n",
       "      <th>log</th>\n",
       "      <td>0.83724</td>\n",
       "      <td>0.83916</td>\n",
       "      <td>0.85335</td>\n",
       "      <td>0.64706</td>\n",
       "      <td>0.35200</td>\n",
       "      <td>0.45596</td>\n",
       "      <td>0.78166</td>\n",
       "      <td>0.53855</td>\n",
       "    </tr>\n",
       "    <tr>\n",
       "      <th>dtree</th>\n",
       "      <td>0.86410</td>\n",
       "      <td>1.00000</td>\n",
       "      <td>0.86453</td>\n",
       "      <td>0.60769</td>\n",
       "      <td>0.63200</td>\n",
       "      <td>0.61961</td>\n",
       "      <td>0.77285</td>\n",
       "      <td>0.65197</td>\n",
       "    </tr>\n",
       "    <tr>\n",
       "      <th>dtree_p1</th>\n",
       "      <td>0.86045</td>\n",
       "      <td>0.97832</td>\n",
       "      <td>0.87570</td>\n",
       "      <td>0.65517</td>\n",
       "      <td>0.60800</td>\n",
       "      <td>0.63071</td>\n",
       "      <td>0.79820</td>\n",
       "      <td>0.67162</td>\n",
       "    </tr>\n",
       "    <tr>\n",
       "      <th>dtree_p2</th>\n",
       "      <td>0.87444</td>\n",
       "      <td>0.91853</td>\n",
       "      <td>0.88268</td>\n",
       "      <td>0.67521</td>\n",
       "      <td>0.63200</td>\n",
       "      <td>0.65289</td>\n",
       "      <td>0.86647</td>\n",
       "      <td>0.67741</td>\n",
       "    </tr>\n",
       "    <tr>\n",
       "      <th>dtree_p3</th>\n",
       "      <td>0.87640</td>\n",
       "      <td>0.91993</td>\n",
       "      <td>0.87849</td>\n",
       "      <td>0.66102</td>\n",
       "      <td>0.62400</td>\n",
       "      <td>0.64198</td>\n",
       "      <td>0.85755</td>\n",
       "      <td>0.66003</td>\n",
       "    </tr>\n",
       "    <tr>\n",
       "      <th>dtree_p4</th>\n",
       "      <td>0.87137</td>\n",
       "      <td>0.91329</td>\n",
       "      <td>0.86034</td>\n",
       "      <td>0.61468</td>\n",
       "      <td>0.53600</td>\n",
       "      <td>0.57265</td>\n",
       "      <td>0.85013</td>\n",
       "      <td>0.62594</td>\n",
       "    </tr>\n",
       "    <tr>\n",
       "      <th>dtree_p5</th>\n",
       "      <td>0.88031</td>\n",
       "      <td>0.89545</td>\n",
       "      <td>0.89106</td>\n",
       "      <td>0.71171</td>\n",
       "      <td>0.63200</td>\n",
       "      <td>0.66949</td>\n",
       "      <td>0.88810</td>\n",
       "      <td>0.71272</td>\n",
       "    </tr>\n",
       "  </tbody>\n",
       "</table>\n",
       "</div>"
      ],
      "text/plain": [
       "          cross-val  train_score  test_score  precision  recall  f1-score  \\\n",
       "log         0.83724      0.83916     0.85335    0.64706 0.35200   0.45596   \n",
       "dtree       0.86410      1.00000     0.86453    0.60769 0.63200   0.61961   \n",
       "dtree_p1    0.86045      0.97832     0.87570    0.65517 0.60800   0.63071   \n",
       "dtree_p2    0.87444      0.91853     0.88268    0.67521 0.63200   0.65289   \n",
       "dtree_p3    0.87640      0.91993     0.87849    0.66102 0.62400   0.64198   \n",
       "dtree_p4    0.87137      0.91329     0.86034    0.61468 0.53600   0.57265   \n",
       "dtree_p5    0.88031      0.89545     0.89106    0.71171 0.63200   0.66949   \n",
       "\n",
       "          auc-roc  auc-pr  \n",
       "log       0.78166 0.53855  \n",
       "dtree     0.77285 0.65197  \n",
       "dtree_p1  0.79820 0.67162  \n",
       "dtree_p2  0.86647 0.67741  \n",
       "dtree_p3  0.85755 0.66003  \n",
       "dtree_p4  0.85013 0.62594  \n",
       "dtree_p5  0.88810 0.71272  "
      ]
     },
     "execution_count": 110,
     "metadata": {},
     "output_type": "execute_result"
    }
   ],
   "source": [
    "dfModel"
   ]
  },
  {
   "cell_type": "code",
   "execution_count": 111,
   "metadata": {},
   "outputs": [],
   "source": [
    "dtree = DecisionTreeClassifier(min_samples_leaf=2, min_samples_split=2)\n",
    "params = {'max_depth': range(1,50)}\n",
    "\n",
    "k_fold = KFold(n_splits = 10, shuffle = True, random_state = 42)\n",
    "gridcv_results = GridSearchCV(estimator = dtree, param_grid = params, cv = k_fold, n_jobs = -1, verbose = 0).fit(X, y)\n",
    "\n",
    "grid_cv = pd.DataFrame(gridcv_results.cv_results_)\n",
    "#grid_cv = grid_cv.sort_values(by='mean_test_score', ascending = False)\n",
    "grid_sort = grid_cv.sort_values(by=['param_max_depth'])"
   ]
  },
  {
   "cell_type": "code",
   "execution_count": 112,
   "metadata": {},
   "outputs": [
    {
     "data": {
      "image/png": "[encoded data removed]",
      "text/plain": [
       "<Figure size 864x288 with 1 Axes>"
      ]
     },
     "metadata": {},
     "output_type": "display_data"
    }
   ],
   "source": [
    "plt.figure(figsize=(12,4))\n",
    "plt.plot(range(1,50), grid_sort.iloc[:,6:16], alpha=0.3)\n",
    "plt.plot(range(1,50), grid_sort.iloc[:,16])\n",
    "plt.xlabel('Max Depth')\n",
    "plt.ylabel('Score');"
   ]
  },
  {
   "cell_type": "markdown",
   "metadata": {},
   "source": [
    "## Sonuç"
   ]
  },
  {
   "cell_type": "markdown",
   "metadata": {},
   "source": [
    "- Logistik regresyon değerlerine göre daha iyi sonuçlar gözlemlendi. Hem score olarak hem de iyi performans beklentisi olan recall değeri için oldukça iyi sonuçlar alındı. Kötü müşterilerin tahmini için iyi conf. matrix daha kabul edilebilir değerler verdi.\n",
    "- Karar ağacı modellerinin dezavantajı overfit yaşanmasıdır. Model eğitilirken, parametre ayarlaması yapılmadığı için bu veri seti için de overfit yaşandı, bu sorun parametre iyileştirmeleri ile aşıldı.\n",
    "- Dengesiz veriler için incelenen auc-pr değerinde iyileşme yaşandı.\n",
    "- Maliyet kaynaklı parametrik değişiklikler ile en iyi recall alınmaya çalışıldı. En iyi performans bu parametrelerde gözlemlendi:\n",
    "    - maxdepth=16, minsamplesleaf=16, minsamplessplit=64\n",
    "- Cross bölünme yapılmış 10 farklı test seti üzerinde maxdepth davranışı incelendi. Overfit'in önüne geçebilmek için çok yüksek-düşük performanslar optimize edildi ve ortalama değer grafikleştirildi. 0.91 ve 0.83 aralığında değişen score değeri için en optimum değer 0.88 olarak sonuçlandı."
   ]
  },
  {
   "cell_type": "code",
   "execution_count": null,
   "metadata": {},
   "outputs": [],
   "source": []
  }
 ],
 "metadata": {
  "kernelspec": {
   "display_name": "Python 3",
   "language": "python",
   "name": "python3"
  },
  "language_info": {
   "codemirror_mode": {
    "name": "ipython",
    "version": 3
   },
   "file_extension": ".py",
   "mimetype": "text/x-python",
   "name": "python",
   "nbconvert_exporter": "python",
   "pygments_lexer": "ipython3",
   "version": "3.7.7"
  }
 },
 "nbformat": 4,
 "nbformat_minor": 4
}
