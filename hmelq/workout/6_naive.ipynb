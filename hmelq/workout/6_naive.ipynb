{
 "cells": [
  {
   "cell_type": "code",
   "execution_count": 1,
   "metadata": {},
   "outputs": [],
   "source": [
    "import numpy as np\n",
    "import pandas as pd\n",
    "import matplotlib.pyplot as plt\n",
    "import seaborn as sns\n",
    "from sklearn.preprocessing import StandardScaler\n",
    "import warnings\n",
    "\n",
    "import allinone as aio\n",
    "\n",
    "%matplotlib inline\n",
    "warnings.filterwarnings('ignore')\n",
    "pd.set_option(\"display.float_format\", \"{:.3f}\".format)\n",
    "plt.style.use('ggplot')"
   ]
  },
  {
   "cell_type": "code",
   "execution_count": 2,
   "metadata": {},
   "outputs": [],
   "source": [
    "df = pd.read_csv('hmelq_clean.csv')"
   ]
  },
  {
   "cell_type": "code",
   "execution_count": 3,
   "metadata": {},
   "outputs": [
    {
     "data": {
      "text/html": [
       "<div>\n",
       "<style scoped>\n",
       "    .dataframe tbody tr th:only-of-type {\n",
       "        vertical-align: middle;\n",
       "    }\n",
       "\n",
       "    .dataframe tbody tr th {\n",
       "        vertical-align: top;\n",
       "    }\n",
       "\n",
       "    .dataframe thead th {\n",
       "        text-align: right;\n",
       "    }\n",
       "</style>\n",
       "<table border=\"1\" class=\"dataframe\">\n",
       "  <thead>\n",
       "    <tr style=\"text-align: right;\">\n",
       "      <th></th>\n",
       "      <th>bad</th>\n",
       "      <th>loan</th>\n",
       "      <th>mortdue</th>\n",
       "      <th>value</th>\n",
       "      <th>reason</th>\n",
       "      <th>job</th>\n",
       "      <th>yoj</th>\n",
       "      <th>derog</th>\n",
       "      <th>delinq</th>\n",
       "      <th>clage</th>\n",
       "      <th>ninq</th>\n",
       "      <th>clno</th>\n",
       "      <th>debtinc</th>\n",
       "    </tr>\n",
       "  </thead>\n",
       "  <tbody>\n",
       "    <tr>\n",
       "      <th>0</th>\n",
       "      <td>0</td>\n",
       "      <td>29.311</td>\n",
       "      <td>64.074</td>\n",
       "      <td>16.199</td>\n",
       "      <td>HomeImp</td>\n",
       "      <td>Other</td>\n",
       "      <td>28.000</td>\n",
       "      <td>0.000</td>\n",
       "      <td>0.000</td>\n",
       "      <td>18.711</td>\n",
       "      <td>0.000</td>\n",
       "      <td>14.000</td>\n",
       "      <td>13.321</td>\n",
       "    </tr>\n",
       "    <tr>\n",
       "      <th>1</th>\n",
       "      <td>0</td>\n",
       "      <td>19.771</td>\n",
       "      <td>112.857</td>\n",
       "      <td>16.569</td>\n",
       "      <td>DebtCon</td>\n",
       "      <td>Other</td>\n",
       "      <td>2.000</td>\n",
       "      <td>0.000</td>\n",
       "      <td>0.000</td>\n",
       "      <td>18.002</td>\n",
       "      <td>0.000</td>\n",
       "      <td>25.000</td>\n",
       "      <td>13.443</td>\n",
       "    </tr>\n",
       "    <tr>\n",
       "      <th>2</th>\n",
       "      <td>0</td>\n",
       "      <td>21.390</td>\n",
       "      <td>86.871</td>\n",
       "      <td>14.924</td>\n",
       "      <td>DebtCon</td>\n",
       "      <td>Other</td>\n",
       "      <td>5.000</td>\n",
       "      <td>0.000</td>\n",
       "      <td>0.000</td>\n",
       "      <td>15.992</td>\n",
       "      <td>2.000</td>\n",
       "      <td>9.000</td>\n",
       "      <td>11.077</td>\n",
       "    </tr>\n",
       "  </tbody>\n",
       "</table>\n",
       "</div>"
      ],
      "text/plain": [
       "   bad   loan  mortdue  value   reason    job    yoj  derog  delinq  clage  \\\n",
       "0    0 29.311   64.074 16.199  HomeImp  Other 28.000  0.000   0.000 18.711   \n",
       "1    0 19.771  112.857 16.569  DebtCon  Other  2.000  0.000   0.000 18.002   \n",
       "2    0 21.390   86.871 14.924  DebtCon  Other  5.000  0.000   0.000 15.992   \n",
       "\n",
       "   ninq   clno  debtinc  \n",
       "0 0.000 14.000   13.321  \n",
       "1 0.000 25.000   13.443  \n",
       "2 2.000  9.000   11.077  "
      ]
     },
     "execution_count": 3,
     "metadata": {},
     "output_type": "execute_result"
    }
   ],
   "source": [
    "df.head(3)"
   ]
  },
  {
   "cell_type": "markdown",
   "metadata": {},
   "source": [
    "### Dummy"
   ]
  },
  {
   "cell_type": "code",
   "execution_count": 4,
   "metadata": {},
   "outputs": [],
   "source": [
    "dfCopy = df.copy()\n",
    "x_ = dfCopy[['bad','job','reason']]\n",
    "\n",
    "#StandardScaler\n",
    "scale_col = pd.DataFrame(StandardScaler().fit_transform(dfCopy[['loan', 'mortdue', 'value', 'yoj', 'derog', 'delinq', 'clage', 'ninq', 'clno', 'debtinc']]),\n",
    "            columns=['loan', 'mortdue', 'value', 'yoj', 'derog', 'delinq', 'clage', 'ninq', 'clno', 'debtinc'])\n",
    "dfScale = pd.concat([x_, scale_col], axis=1)\n",
    "\n",
    "#Dummy\n",
    "dms = pd.get_dummies(dfCopy[['reason','job']])\n",
    "Xs_ = dfScale.drop(['reason','job'], axis=1)\n",
    "dfScale_dummy = pd.concat([Xs_,dms], axis=1)\n",
    "dfScale_dummy = dfScale_dummy.drop(['reason_DebtCon'], axis=1)\n",
    "\n",
    "dfDummy = dfScale_dummy.copy()"
   ]
  },
  {
   "cell_type": "code",
   "execution_count": 5,
   "metadata": {},
   "outputs": [
    {
     "data": {
      "text/html": [
       "<div>\n",
       "<style scoped>\n",
       "    .dataframe tbody tr th:only-of-type {\n",
       "        vertical-align: middle;\n",
       "    }\n",
       "\n",
       "    .dataframe tbody tr th {\n",
       "        vertical-align: top;\n",
       "    }\n",
       "\n",
       "    .dataframe thead th {\n",
       "        text-align: right;\n",
       "    }\n",
       "</style>\n",
       "<table border=\"1\" class=\"dataframe\">\n",
       "  <thead>\n",
       "    <tr style=\"text-align: right;\">\n",
       "      <th></th>\n",
       "      <th>bad</th>\n",
       "      <th>loan</th>\n",
       "      <th>mortdue</th>\n",
       "      <th>value</th>\n",
       "      <th>yoj</th>\n",
       "      <th>derog</th>\n",
       "      <th>delinq</th>\n",
       "      <th>clage</th>\n",
       "      <th>ninq</th>\n",
       "      <th>clno</th>\n",
       "      <th>debtinc</th>\n",
       "      <th>reason_HomeImp</th>\n",
       "      <th>job_Mgr</th>\n",
       "      <th>job_Office</th>\n",
       "      <th>job_Other</th>\n",
       "      <th>job_ProfEx</th>\n",
       "      <th>job_Sales</th>\n",
       "      <th>job_Self</th>\n",
       "    </tr>\n",
       "  </thead>\n",
       "  <tbody>\n",
       "    <tr>\n",
       "      <th>0</th>\n",
       "      <td>0</td>\n",
       "      <td>3.180</td>\n",
       "      <td>-1.783</td>\n",
       "      <td>0.382</td>\n",
       "      <td>2.638</td>\n",
       "      <td>-0.282</td>\n",
       "      <td>-0.371</td>\n",
       "      <td>-0.392</td>\n",
       "      <td>-0.708</td>\n",
       "      <td>-0.738</td>\n",
       "      <td>0.072</td>\n",
       "      <td>1</td>\n",
       "      <td>0</td>\n",
       "      <td>0</td>\n",
       "      <td>1</td>\n",
       "      <td>0</td>\n",
       "      <td>0</td>\n",
       "      <td>0</td>\n",
       "    </tr>\n",
       "    <tr>\n",
       "      <th>1</th>\n",
       "      <td>0</td>\n",
       "      <td>-0.424</td>\n",
       "      <td>0.881</td>\n",
       "      <td>0.714</td>\n",
       "      <td>-0.956</td>\n",
       "      <td>-0.282</td>\n",
       "      <td>-0.371</td>\n",
       "      <td>-0.534</td>\n",
       "      <td>-0.708</td>\n",
       "      <td>0.362</td>\n",
       "      <td>0.128</td>\n",
       "      <td>0</td>\n",
       "      <td>0</td>\n",
       "      <td>0</td>\n",
       "      <td>1</td>\n",
       "      <td>0</td>\n",
       "      <td>0</td>\n",
       "      <td>0</td>\n",
       "    </tr>\n",
       "    <tr>\n",
       "      <th>2</th>\n",
       "      <td>0</td>\n",
       "      <td>0.188</td>\n",
       "      <td>-0.538</td>\n",
       "      <td>-0.757</td>\n",
       "      <td>-0.541</td>\n",
       "      <td>-0.282</td>\n",
       "      <td>-0.371</td>\n",
       "      <td>-0.936</td>\n",
       "      <td>0.501</td>\n",
       "      <td>-1.238</td>\n",
       "      <td>-0.959</td>\n",
       "      <td>0</td>\n",
       "      <td>0</td>\n",
       "      <td>0</td>\n",
       "      <td>1</td>\n",
       "      <td>0</td>\n",
       "      <td>0</td>\n",
       "      <td>0</td>\n",
       "    </tr>\n",
       "  </tbody>\n",
       "</table>\n",
       "</div>"
      ],
      "text/plain": [
       "   bad   loan  mortdue  value    yoj  derog  delinq  clage   ninq   clno  \\\n",
       "0    0  3.180   -1.783  0.382  2.638 -0.282  -0.371 -0.392 -0.708 -0.738   \n",
       "1    0 -0.424    0.881  0.714 -0.956 -0.282  -0.371 -0.534 -0.708  0.362   \n",
       "2    0  0.188   -0.538 -0.757 -0.541 -0.282  -0.371 -0.936  0.501 -1.238   \n",
       "\n",
       "   debtinc  reason_HomeImp  job_Mgr  job_Office  job_Other  job_ProfEx  \\\n",
       "0    0.072               1        0           0          1           0   \n",
       "1    0.128               0        0           0          1           0   \n",
       "2   -0.959               0        0           0          1           0   \n",
       "\n",
       "   job_Sales  job_Self  \n",
       "0          0         0  \n",
       "1          0         0  \n",
       "2          0         0  "
      ]
     },
     "execution_count": 5,
     "metadata": {},
     "output_type": "execute_result"
    }
   ],
   "source": [
    "dfDummy.head(3)"
   ]
  },
  {
   "cell_type": "markdown",
   "metadata": {},
   "source": [
    "## Model"
   ]
  },
  {
   "cell_type": "code",
   "execution_count": 7,
   "metadata": {},
   "outputs": [],
   "source": [
    "from sklearn.naive_bayes import GaussianNB, BernoulliNB"
   ]
  },
  {
   "cell_type": "code",
   "execution_count": 8,
   "metadata": {},
   "outputs": [],
   "source": [
    "y = dfDummy.bad\n",
    "X = dfDummy.drop(['bad'], axis=1)\n",
    "model = GaussianNB()"
   ]
  },
  {
   "cell_type": "code",
   "execution_count": 9,
   "metadata": {},
   "outputs": [
    {
     "name": "stdout",
     "output_type": "stream",
     "text": [
      "Accuracy: 0.80587 | AUC: 0.76910\n"
     ]
    },
    {
     "data": {
      "text/html": [
       "<div>\n",
       "<style scoped>\n",
       "    .dataframe tbody tr th:only-of-type {\n",
       "        vertical-align: middle;\n",
       "    }\n",
       "\n",
       "    .dataframe tbody tr th {\n",
       "        vertical-align: top;\n",
       "    }\n",
       "\n",
       "    .dataframe thead th {\n",
       "        text-align: right;\n",
       "    }\n",
       "</style>\n",
       "<table border=\"1\" class=\"dataframe\">\n",
       "  <thead>\n",
       "    <tr style=\"text-align: right;\">\n",
       "      <th></th>\n",
       "      <th>pred_0</th>\n",
       "      <th>pred_1</th>\n",
       "      <th>precision</th>\n",
       "      <th>recall</th>\n",
       "      <th>f1-score</th>\n",
       "      <th>support</th>\n",
       "    </tr>\n",
       "  </thead>\n",
       "  <tbody>\n",
       "    <tr>\n",
       "      <th>0</th>\n",
       "      <td>523</td>\n",
       "      <td>68</td>\n",
       "      <td>0.880</td>\n",
       "      <td>0.885</td>\n",
       "      <td>0.883</td>\n",
       "      <td>591.000</td>\n",
       "    </tr>\n",
       "    <tr>\n",
       "      <th>1</th>\n",
       "      <td>71</td>\n",
       "      <td>54</td>\n",
       "      <td>0.443</td>\n",
       "      <td>0.432</td>\n",
       "      <td>0.437</td>\n",
       "      <td>125.000</td>\n",
       "    </tr>\n",
       "  </tbody>\n",
       "</table>\n",
       "</div>"
      ],
      "text/plain": [
       "   pred_0  pred_1  precision  recall  f1-score  support\n",
       "0     523      68      0.880   0.885     0.883  591.000\n",
       "1      71      54      0.443   0.432     0.437  125.000"
      ]
     },
     "execution_count": 9,
     "metadata": {},
     "output_type": "execute_result"
    }
   ],
   "source": [
    "aio.confusion(X, y, model)"
   ]
  },
  {
   "cell_type": "code",
   "execution_count": 10,
   "metadata": {},
   "outputs": [],
   "source": [
    "dfModel = pd.read_csv('dfModel1_support.csv', index_col=0)"
   ]
  },
  {
   "cell_type": "code",
   "execution_count": 11,
   "metadata": {},
   "outputs": [],
   "source": [
    "y = dfDummy.bad\n",
    "X = dfDummy.drop(['bad'], axis=1)\n",
    "model = GaussianNB()\n",
    "\n",
    "dfModel = dfModel.append(aio.modelframe(X, y, model, 'gaussian'))"
   ]
  },
  {
   "cell_type": "code",
   "execution_count": 13,
   "metadata": {},
   "outputs": [],
   "source": [
    "y = dfDummy.bad\n",
    "X = dfDummy.drop(['bad'], axis=1)\n",
    "model = BernoulliNB()\n",
    "\n",
    "dfModel = dfModel.append(aio.modelframe(X, y, model, 'bernoulli'))"
   ]
  },
  {
   "cell_type": "code",
   "execution_count": 14,
   "metadata": {},
   "outputs": [
    {
     "data": {
      "text/html": [
       "<div>\n",
       "<style scoped>\n",
       "    .dataframe tbody tr th:only-of-type {\n",
       "        vertical-align: middle;\n",
       "    }\n",
       "\n",
       "    .dataframe tbody tr th {\n",
       "        vertical-align: top;\n",
       "    }\n",
       "\n",
       "    .dataframe thead th {\n",
       "        text-align: right;\n",
       "    }\n",
       "</style>\n",
       "<table border=\"1\" class=\"dataframe\">\n",
       "  <thead>\n",
       "    <tr style=\"text-align: right;\">\n",
       "      <th></th>\n",
       "      <th>cross-score</th>\n",
       "      <th>cross-train</th>\n",
       "      <th>train_score</th>\n",
       "      <th>test_score</th>\n",
       "      <th>precision</th>\n",
       "      <th>recall</th>\n",
       "      <th>f1-score</th>\n",
       "      <th>auc-roc</th>\n",
       "      <th>auc-pr</th>\n",
       "    </tr>\n",
       "  </thead>\n",
       "  <tbody>\n",
       "    <tr>\n",
       "      <th>logistic</th>\n",
       "      <td>0.837</td>\n",
       "      <td>0.836</td>\n",
       "      <td>0.838</td>\n",
       "      <td>0.851</td>\n",
       "      <td>0.632</td>\n",
       "      <td>0.344</td>\n",
       "      <td>0.446</td>\n",
       "      <td>0.782</td>\n",
       "      <td>0.541</td>\n",
       "    </tr>\n",
       "    <tr>\n",
       "      <th>tree</th>\n",
       "      <td>0.878</td>\n",
       "      <td>0.873</td>\n",
       "      <td>0.895</td>\n",
       "      <td>0.891</td>\n",
       "      <td>0.712</td>\n",
       "      <td>0.632</td>\n",
       "      <td>0.669</td>\n",
       "      <td>0.888</td>\n",
       "      <td>0.713</td>\n",
       "    </tr>\n",
       "    <tr>\n",
       "      <th>forest</th>\n",
       "      <td>0.916</td>\n",
       "      <td>0.910</td>\n",
       "      <td>1.000</td>\n",
       "      <td>0.912</td>\n",
       "      <td>0.844</td>\n",
       "      <td>0.608</td>\n",
       "      <td>0.707</td>\n",
       "      <td>0.955</td>\n",
       "      <td>0.859</td>\n",
       "    </tr>\n",
       "    <tr>\n",
       "      <th>neural</th>\n",
       "      <td>0.847</td>\n",
       "      <td>0.846</td>\n",
       "      <td>0.855</td>\n",
       "      <td>0.865</td>\n",
       "      <td>0.689</td>\n",
       "      <td>0.408</td>\n",
       "      <td>0.513</td>\n",
       "      <td>0.792</td>\n",
       "      <td>0.595</td>\n",
       "    </tr>\n",
       "    <tr>\n",
       "      <th>support</th>\n",
       "      <td>0.907</td>\n",
       "      <td>0.900</td>\n",
       "      <td>0.952</td>\n",
       "      <td>0.912</td>\n",
       "      <td>0.908</td>\n",
       "      <td>0.552</td>\n",
       "      <td>0.687</td>\n",
       "      <td>0.907</td>\n",
       "      <td>0.818</td>\n",
       "    </tr>\n",
       "    <tr>\n",
       "      <th>gaussian</th>\n",
       "      <td>0.795</td>\n",
       "      <td>0.791</td>\n",
       "      <td>0.792</td>\n",
       "      <td>0.806</td>\n",
       "      <td>0.443</td>\n",
       "      <td>0.432</td>\n",
       "      <td>0.437</td>\n",
       "      <td>0.769</td>\n",
       "      <td>0.462</td>\n",
       "    </tr>\n",
       "    <tr>\n",
       "      <th>bernoulli</th>\n",
       "      <td>0.828</td>\n",
       "      <td>0.827</td>\n",
       "      <td>0.830</td>\n",
       "      <td>0.841</td>\n",
       "      <td>0.559</td>\n",
       "      <td>0.416</td>\n",
       "      <td>0.477</td>\n",
       "      <td>0.805</td>\n",
       "      <td>0.498</td>\n",
       "    </tr>\n",
       "  </tbody>\n",
       "</table>\n",
       "</div>"
      ],
      "text/plain": [
       "           cross-score  cross-train  train_score  test_score  precision  \\\n",
       "logistic         0.837        0.836        0.838       0.851      0.632   \n",
       "tree             0.878        0.873        0.895       0.891      0.712   \n",
       "forest           0.916        0.910        1.000       0.912      0.844   \n",
       "neural           0.847        0.846        0.855       0.865      0.689   \n",
       "support          0.907        0.900        0.952       0.912      0.908   \n",
       "gaussian         0.795        0.791        0.792       0.806      0.443   \n",
       "bernoulli        0.828        0.827        0.830       0.841      0.559   \n",
       "\n",
       "           recall  f1-score  auc-roc  auc-pr  \n",
       "logistic    0.344     0.446    0.782   0.541  \n",
       "tree        0.632     0.669    0.888   0.713  \n",
       "forest      0.608     0.707    0.955   0.859  \n",
       "neural      0.408     0.513    0.792   0.595  \n",
       "support     0.552     0.687    0.907   0.818  \n",
       "gaussian    0.432     0.437    0.769   0.462  \n",
       "bernoulli   0.416     0.477    0.805   0.498  "
      ]
     },
     "execution_count": 14,
     "metadata": {},
     "output_type": "execute_result"
    }
   ],
   "source": [
    "dfModel"
   ]
  },
  {
   "cell_type": "code",
   "execution_count": 20,
   "metadata": {},
   "outputs": [
    {
     "data": {
      "image/png": "[encoded data removed]",
      "text/plain": [
       "<Figure size 1080x288 with 2 Axes>"
      ]
     },
     "metadata": {},
     "output_type": "display_data"
    }
   ],
   "source": [
    "model = BernoulliNB()\n",
    "\n",
    "plt.figure(figsize=(15, 4))\n",
    "aio.modelcurve(X, y, model)"
   ]
  },
  {
   "cell_type": "code",
   "execution_count": 19,
   "metadata": {},
   "outputs": [],
   "source": [
    "dfModel1 = dfModel.copy()\n",
    "dfModel1.to_csv('dfModel1_naive.csv',index=True)"
   ]
  },
  {
   "cell_type": "markdown",
   "metadata": {},
   "source": [
    "## Sonuç"
   ]
  },
  {
   "cell_type": "markdown",
   "metadata": {},
   "source": [
    "- Hızlı sonuç alabilek için scale edilmiş data kullanıldı, bu yöntem sayesinde 44dk'dan 3dk'ya indirildi. \n",
    "- Scale edilen veri için performansda iyileştirme olmadı, hatta ciddi düşüş oldu.\n",
    "- Forest'a göre çok düşük performans gösterdi, parametre iyileştirmesi yanlı olmasına sebep olacağından yapılmadı.\n",
    "- Maliyet odaklı incelenirse oldukça düşük değerler alındı.\n",
    "- SVM, Forest'a göre daha hızlı sonuçlar alındı."
   ]
  },
  {
   "cell_type": "code",
   "execution_count": null,
   "metadata": {},
   "outputs": [],
   "source": []
  }
 ],
 "metadata": {
  "kernelspec": {
   "display_name": "Python 3",
   "language": "python",
   "name": "python3"
  },
  "language_info": {
   "codemirror_mode": {
    "name": "ipython",
    "version": 3
   },
   "file_extension": ".py",
   "mimetype": "text/x-python",
   "name": "python",
   "nbconvert_exporter": "python",
   "pygments_lexer": "ipython3",
   "version": "3.7.8"
  }
 },
 "nbformat": 4,
 "nbformat_minor": 4
}
